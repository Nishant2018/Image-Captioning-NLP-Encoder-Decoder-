{
 "cells": [
  {
   "cell_type": "markdown",
   "id": "172e7c8e",
   "metadata": {
    "papermill": {
     "duration": 0.017786,
     "end_time": "2024-05-19T22:32:28.758622",
     "exception": false,
     "start_time": "2024-05-19T22:32:28.740836",
     "status": "completed"
    },
    "tags": []
   },
   "source": [
    "<div style=\"color:#FF5733; background-color:#F7DC6F; padding: 20px; border-radius: 15px; font-size: 200%; font-family: 'Segoe UI', Tahoma, Geneva, Verdana, sans-serif; text-align:center; text-shadow: 2px 2px 4px rgba(0, 0, 0, 0.7);\"> 🏝🛤🔥IMAGE CAPTIONING🔥🖼📷 </div>"
   ]
  },
  {
   "cell_type": "markdown",
   "id": "38c7d9d1",
   "metadata": {
    "papermill": {
     "duration": 0.016061,
     "end_time": "2024-05-19T22:32:28.790290",
     "exception": false,
     "start_time": "2024-05-19T22:32:28.774229",
     "status": "completed"
    },
    "tags": []
   },
   "source": [
    "![](https://www.microsoft.com/en-us/research/uploads/prod/2017/07/image.caption.copynet-1024x401.jpg)"
   ]
  },
  {
   "cell_type": "markdown",
   "id": "e459723c",
   "metadata": {
    "papermill": {
     "duration": 0.014199,
     "end_time": "2024-05-19T22:32:28.819058",
     "exception": false,
     "start_time": "2024-05-19T22:32:28.804859",
     "status": "completed"
    },
    "tags": []
   },
   "source": [
    "Certainly! Below is a Markdown template with an example of image captioning, along with preprocessing steps and the training process:\n",
    "\n",
    "```markdown\n",
    "# Image Captioning with Deep Learning\n",
    "\n",
    "Image captioning is the process of generating textual descriptions for images automatically. It combines techniques from computer vision and natural language processing to understand the content of images and describe them in natural language.\n",
    "\n",
    "## Preprocessing Steps\n",
    "\n",
    "### Image Preprocessing\n",
    "1. **Resize Images**: Resize all images to a uniform size to ensure consistency.\n",
    "2. **Normalize Pixel Values**: Normalize pixel values to a specific range (e.g., [0, 1]) for better convergence during training.\n",
    "3. **Data Augmentation**: Augment training images with techniques like rotation, flipping, and zooming to increase dataset size and improve model generalization.\n",
    "\n",
    "### Text Preprocessing\n",
    "1. **Tokenization**: Tokenize captions into words or subwords to represent them as numerical sequences.\n",
    "2. **Vocabulary Creation**: Build a vocabulary from the tokenized captions to map words to unique indices.\n",
    "3. **Padding Sequences**: Pad or truncate caption sequences to a fixed length to ensure uniform input size.\n",
    "\n",
    "## Training Process\n",
    "\n",
    "1. **Feature Extraction**: Extract features from images using a pre-trained convolutional neural network (CNN) such as VGG, Inception, or ResNet.\n",
    "2. **Model Architecture**: Design a model architecture that combines the image features with text inputs for caption generation. Common architectures include encoder-decoder networks with attention mechanisms.\n",
    "3. **Loss Function**: Define a loss function such as cross-entropy loss to measure the difference between predicted and actual captions.\n",
    "4. **Training**: Train the model using backpropagation and optimization techniques such as stochastic gradient descent (SGD) or Adam. Monitor metrics such as loss and validation accuracy during training.\n",
    "5. **Evaluation**: Evaluate the trained model on a separate validation set using metrics like BLEU score to assess caption quality.\n",
    "6. **Fine-Tuning**: Optionally, fine-tune the model or experiment with hyperparameters to improve performance.\n",
    "\n",
    "## Example Code Snippet (Python)\n",
    "\n",
    "```python\n",
    "# Example code for preprocessing and training an image captioning model\n",
    "\n",
    "# Import necessary libraries\n",
    "import numpy as np\n",
    "import tensorflow as tf\n",
    "from tensorflow.keras.preprocessing.text import Tokenizer\n",
    "from tensorflow.keras.preprocessing.sequence import pad_sequences\n",
    "from tensorflow.keras.applications import InceptionV3\n",
    "from tensorflow.keras.models import Model\n",
    "from tensorflow.keras.layers import Input, Dense, LSTM, Embedding, Dropout, Add\n",
    "\n",
    "# Define preprocessing steps and model architecture\n",
    "# (Code for feature extraction, model architecture, and training goes here)\n",
    "```\n",
    "\n",
    "This Markdown template provides an overview of image captioning, including preprocessing steps and the training process, along with an example Python code snippet to get you started. You can customize it further based on your specific dataset and requirements.\n",
    "```"
   ]
  },
  {
   "cell_type": "markdown",
   "id": "7b91dd55",
   "metadata": {
    "papermill": {
     "duration": 0.014851,
     "end_time": "2024-05-19T22:32:28.848372",
     "exception": false,
     "start_time": "2024-05-19T22:32:28.833521",
     "status": "completed"
    },
    "tags": []
   },
   "source": [
    "<div style=\"color:#FF5733; background-color:#F7DC6F; padding: 20px; border-radius: 15px; font-size: 200%; font-family: 'Segoe UI', Tahoma, Geneva, Verdana, sans-serif; text-align:center; text-shadow: 2px 2px 4px rgba(0, 0, 0, 0.7);\"> 📜IMPORTING LIBRARIES📜 </div>"
   ]
  },
  {
   "cell_type": "code",
   "execution_count": 1,
   "id": "9317248c",
   "metadata": {
    "execution": {
     "iopub.execute_input": "2024-05-19T22:32:28.878977Z",
     "iopub.status.busy": "2024-05-19T22:32:28.878607Z",
     "iopub.status.idle": "2024-05-19T22:32:51.227105Z",
     "shell.execute_reply": "2024-05-19T22:32:51.226021Z"
    },
    "papermill": {
     "duration": 22.366578,
     "end_time": "2024-05-19T22:32:51.229564",
     "exception": false,
     "start_time": "2024-05-19T22:32:28.862986",
     "status": "completed"
    },
    "tags": []
   },
   "outputs": [
    {
     "name": "stderr",
     "output_type": "stream",
     "text": [
      "2024-05-19 22:32:32.267098: E external/local_xla/xla/stream_executor/cuda/cuda_dnn.cc:9261] Unable to register cuDNN factory: Attempting to register factory for plugin cuDNN when one has already been registered\n",
      "2024-05-19 22:32:32.267203: E external/local_xla/xla/stream_executor/cuda/cuda_fft.cc:607] Unable to register cuFFT factory: Attempting to register factory for plugin cuFFT when one has already been registered\n",
      "2024-05-19 22:32:32.545899: E external/local_xla/xla/stream_executor/cuda/cuda_blas.cc:1515] Unable to register cuBLAS factory: Attempting to register factory for plugin cuBLAS when one has already been registered\n"
     ]
    }
   ],
   "source": [
    "import tensorflow as tf\n",
    "from tensorflow.keras.preprocessing.text import Tokenizer\n",
    "from tensorflow.keras.preprocessing.sequence import pad_sequences\n",
    "from tensorflow.keras.layers import Embedding, LSTM, Dense, Add, Input\n",
    "from tensorflow.keras.models import Model\n",
    "from keras.layers import Input, Embedding, LSTM, Dense, add\n",
    "from tensorflow.keras.applications import InceptionV3\n",
    "from tensorflow.keras.applications.inception_v3 import preprocess_input\n",
    "from tensorflow.keras.preprocessing import image\n",
    "from tensorflow.keras.preprocessing.text import Tokenizer\n",
    "from tensorflow.keras.preprocessing.sequence import pad_sequences\n",
    "from nltk.translate.bleu_score import sentence_bleu\n",
    "import numpy as np\n",
    "import concurrent.futures\n",
    "from tqdm import tqdm\n",
    "import pandas as pd\n",
    "import matplotlib.pyplot as plt\n",
    "from PIL import Image\n",
    "import os\n",
    "import pickle"
   ]
  },
  {
   "cell_type": "markdown",
   "id": "1dd61ecb",
   "metadata": {
    "papermill": {
     "duration": 0.013573,
     "end_time": "2024-05-19T22:32:51.258071",
     "exception": false,
     "start_time": "2024-05-19T22:32:51.244498",
     "status": "completed"
    },
    "tags": []
   },
   "source": [
    "<div style=\"color:#FF5733; background-color:#F7DC6F; padding: 20px; border-radius: 15px; font-size: 200%; font-family: 'Segoe UI', Tahoma, Geneva, Verdana, sans-serif; text-align:center; text-shadow: 2px 2px 4px rgba(0, 0, 0, 0.7);\"> 📂DATASET FOLDER📂 </div>"
   ]
  },
  {
   "cell_type": "code",
   "execution_count": 2,
   "id": "d7121685",
   "metadata": {
    "execution": {
     "iopub.execute_input": "2024-05-19T22:32:51.288060Z",
     "iopub.status.busy": "2024-05-19T22:32:51.287027Z",
     "iopub.status.idle": "2024-05-19T22:32:51.291835Z",
     "shell.execute_reply": "2024-05-19T22:32:51.290962Z"
    },
    "papermill": {
     "duration": 0.022098,
     "end_time": "2024-05-19T22:32:51.293902",
     "exception": false,
     "start_time": "2024-05-19T22:32:51.271804",
     "status": "completed"
    },
    "tags": []
   },
   "outputs": [],
   "source": [
    "# Define paths\n",
    "data_folders = [\n",
    "    ('/kaggle/input/instagram-images-with-captions/instagram_data', '/kaggle/input/instagram-images-with-captions/instagram_data/captions_csv.csv'),\n",
    "    ('/kaggle/input/instagram-images-with-captions/instagram_data2', '/kaggle/input/instagram-images-with-captions/instagram_data2/captions_csv2.csv')\n",
    "]"
   ]
  },
  {
   "cell_type": "code",
   "execution_count": 3,
   "id": "d267e8ab",
   "metadata": {
    "execution": {
     "iopub.execute_input": "2024-05-19T22:32:51.322946Z",
     "iopub.status.busy": "2024-05-19T22:32:51.322664Z",
     "iopub.status.idle": "2024-05-19T22:32:51.462398Z",
     "shell.execute_reply": "2024-05-19T22:32:51.461573Z"
    },
    "papermill": {
     "duration": 0.157027,
     "end_time": "2024-05-19T22:32:51.464839",
     "exception": false,
     "start_time": "2024-05-19T22:32:51.307812",
     "status": "completed"
    },
    "tags": []
   },
   "outputs": [],
   "source": [
    "image_caption_img1 = pd.read_csv(\"/kaggle/input/instagram-images-with-captions/instagram_data/captions_csv.csv\")\n",
    "image_caption_img2 = pd.read_csv(\"/kaggle/input/instagram-images-with-captions/instagram_data2/captions_csv2.csv\")"
   ]
  },
  {
   "cell_type": "markdown",
   "id": "6fc66591",
   "metadata": {
    "papermill": {
     "duration": 0.013732,
     "end_time": "2024-05-19T22:32:51.493604",
     "exception": false,
     "start_time": "2024-05-19T22:32:51.479872",
     "status": "completed"
    },
    "tags": []
   },
   "source": [
    "<div style=\"color:#FF5733; background-color:#F7DC6F; padding: 20px; border-radius: 15px; font-size: 200%; font-family: 'Segoe UI', Tahoma, Geneva, Verdana, sans-serif; text-align:center; text-shadow: 2px 2px 4px rgba(0, 0, 0, 0.7);\"> 📜SAMPLE OF DATA📜 </div>"
   ]
  },
  {
   "cell_type": "code",
   "execution_count": 4,
   "id": "bda4535f",
   "metadata": {
    "execution": {
     "iopub.execute_input": "2024-05-19T22:32:51.521859Z",
     "iopub.status.busy": "2024-05-19T22:32:51.521541Z",
     "iopub.status.idle": "2024-05-19T22:32:51.663235Z",
     "shell.execute_reply": "2024-05-19T22:32:51.662323Z"
    },
    "papermill": {
     "duration": 0.158427,
     "end_time": "2024-05-19T22:32:51.665559",
     "exception": false,
     "start_time": "2024-05-19T22:32:51.507132",
     "status": "completed"
    },
    "tags": []
   },
   "outputs": [
    {
     "data": {
      "text/html": [
       "<style type=\"text/css\">\n",
       "#T_54774_row0_col0, #T_54774_row0_col1, #T_54774_row0_col2, #T_54774_row1_col0, #T_54774_row1_col1, #T_54774_row1_col2, #T_54774_row2_col0, #T_54774_row2_col1, #T_54774_row2_col2, #T_54774_row3_col0, #T_54774_row3_col1, #T_54774_row3_col2, #T_54774_row4_col0, #T_54774_row4_col1, #T_54774_row4_col2 {\n",
       "  background-color: #f9f9f9;\n",
       "  color: #4CAF50;\n",
       "  font-weight: bold;\n",
       "}\n",
       "</style>\n",
       "<table id=\"T_54774\">\n",
       "  <thead>\n",
       "    <tr>\n",
       "      <th class=\"blank level0\" >&nbsp;</th>\n",
       "      <th id=\"T_54774_level0_col0\" class=\"col_heading level0 col0\" >Sr No</th>\n",
       "      <th id=\"T_54774_level0_col1\" class=\"col_heading level0 col1\" >Image File</th>\n",
       "      <th id=\"T_54774_level0_col2\" class=\"col_heading level0 col2\" >Caption</th>\n",
       "    </tr>\n",
       "  </thead>\n",
       "  <tbody>\n",
       "    <tr>\n",
       "      <th id=\"T_54774_level0_row0\" class=\"row_heading level0 row0\" >6314</th>\n",
       "      <td id=\"T_54774_row0_col0\" class=\"data row0 col0\" >6315</td>\n",
       "      <td id=\"T_54774_row0_col1\" class=\"data row0 col1\" >img/insta6315</td>\n",
       "      <td id=\"T_54774_row0_col2\" class=\"data row0 col2\" >My \"I'm so happy to be doing interviews right now\" face </td>\n",
       "    </tr>\n",
       "    <tr>\n",
       "      <th id=\"T_54774_level0_row1\" class=\"row_heading level0 row1\" >6941</th>\n",
       "      <td id=\"T_54774_row1_col0\" class=\"data row1 col0\" >6942</td>\n",
       "      <td id=\"T_54774_row1_col1\" class=\"data row1 col1\" >img/insta6942</td>\n",
       "      <td id=\"T_54774_row1_col2\" class=\"data row1 col2\" >Photo Shoot 📷❤ </td>\n",
       "    </tr>\n",
       "    <tr>\n",
       "      <th id=\"T_54774_level0_row2\" class=\"row_heading level0 row2\" >3179</th>\n",
       "      <td id=\"T_54774_row2_col0\" class=\"data row2 col0\" >3180</td>\n",
       "      <td id=\"T_54774_row2_col1\" class=\"data row2 col1\" >img/insta3180</td>\n",
       "      <td id=\"T_54774_row2_col2\" class=\"data row2 col2\" >M🖤🖤D </td>\n",
       "    </tr>\n",
       "    <tr>\n",
       "      <th id=\"T_54774_level0_row3\" class=\"row_heading level0 row3\" >9597</th>\n",
       "      <td id=\"T_54774_row3_col0\" class=\"data row3 col0\" >9598</td>\n",
       "      <td id=\"T_54774_row3_col1\" class=\"data row3 col1\" >img/insta9598</td>\n",
       "      <td id=\"T_54774_row3_col2\" class=\"data row3 col2\" >I ❤️ my family </td>\n",
       "    </tr>\n",
       "    <tr>\n",
       "      <th id=\"T_54774_level0_row4\" class=\"row_heading level0 row4\" >5200</th>\n",
       "      <td id=\"T_54774_row4_col0\" class=\"data row4 col0\" >5201</td>\n",
       "      <td id=\"T_54774_row4_col1\" class=\"data row4 col1\" >img/insta5201</td>\n",
       "      <td id=\"T_54774_row4_col2\" class=\"data row4 col2\" >👀 📷thanks </td>\n",
       "    </tr>\n",
       "  </tbody>\n",
       "</table>\n"
      ],
      "text/plain": [
       "<pandas.io.formats.style.Styler at 0x7eb0b6e93ee0>"
      ]
     },
     "execution_count": 4,
     "metadata": {},
     "output_type": "execute_result"
    }
   ],
   "source": [
    "image_caption_img1.sample(5).style.set_properties(**{'background-color': '#f9f9f9', 'color': '#4CAF50', 'font-weight': 'bold'})"
   ]
  },
  {
   "cell_type": "code",
   "execution_count": 5,
   "id": "45508bcb",
   "metadata": {
    "execution": {
     "iopub.execute_input": "2024-05-19T22:32:51.696231Z",
     "iopub.status.busy": "2024-05-19T22:32:51.695710Z",
     "iopub.status.idle": "2024-05-19T22:32:51.701150Z",
     "shell.execute_reply": "2024-05-19T22:32:51.700445Z"
    },
    "papermill": {
     "duration": 0.022056,
     "end_time": "2024-05-19T22:32:51.703088",
     "exception": false,
     "start_time": "2024-05-19T22:32:51.681032",
     "status": "completed"
    },
    "tags": []
   },
   "outputs": [],
   "source": [
    "image_caption_img2 = image_caption_img2.set_axis(['Sr No','Image File','Caption'], axis=1)"
   ]
  },
  {
   "cell_type": "code",
   "execution_count": 6,
   "id": "20d4a464",
   "metadata": {
    "execution": {
     "iopub.execute_input": "2024-05-19T22:32:51.732498Z",
     "iopub.status.busy": "2024-05-19T22:32:51.732207Z",
     "iopub.status.idle": "2024-05-19T22:32:51.742979Z",
     "shell.execute_reply": "2024-05-19T22:32:51.742120Z"
    },
    "papermill": {
     "duration": 0.027864,
     "end_time": "2024-05-19T22:32:51.744962",
     "exception": false,
     "start_time": "2024-05-19T22:32:51.717098",
     "status": "completed"
    },
    "tags": []
   },
   "outputs": [
    {
     "data": {
      "text/html": [
       "<style type=\"text/css\">\n",
       "#T_a394e_row0_col0, #T_a394e_row0_col1, #T_a394e_row0_col2, #T_a394e_row1_col0, #T_a394e_row1_col1, #T_a394e_row1_col2, #T_a394e_row2_col0, #T_a394e_row2_col1, #T_a394e_row2_col2, #T_a394e_row3_col0, #T_a394e_row3_col1, #T_a394e_row3_col2, #T_a394e_row4_col0, #T_a394e_row4_col1, #T_a394e_row4_col2 {\n",
       "  background-color: #f9f9f9;\n",
       "  color: #4CAF50;\n",
       "  font-weight: bold;\n",
       "}\n",
       "</style>\n",
       "<table id=\"T_a394e\">\n",
       "  <thead>\n",
       "    <tr>\n",
       "      <th class=\"blank level0\" >&nbsp;</th>\n",
       "      <th id=\"T_a394e_level0_col0\" class=\"col_heading level0 col0\" >Sr No</th>\n",
       "      <th id=\"T_a394e_level0_col1\" class=\"col_heading level0 col1\" >Image File</th>\n",
       "      <th id=\"T_a394e_level0_col2\" class=\"col_heading level0 col2\" >Caption</th>\n",
       "    </tr>\n",
       "  </thead>\n",
       "  <tbody>\n",
       "    <tr>\n",
       "      <th id=\"T_a394e_level0_row0\" class=\"row_heading level0 row0\" >806</th>\n",
       "      <td id=\"T_a394e_row0_col0\" class=\"data row0 col0\" >21323</td>\n",
       "      <td id=\"T_a394e_row0_col1\" class=\"data row0 col1\" >img2/insta21323</td>\n",
       "      <td id=\"T_a394e_row0_col2\" class=\"data row0 col2\" >May delete later</td>\n",
       "    </tr>\n",
       "    <tr>\n",
       "      <th id=\"T_a394e_level0_row1\" class=\"row_heading level0 row1\" >7435</th>\n",
       "      <td id=\"T_a394e_row1_col0\" class=\"data row1 col0\" >27952</td>\n",
       "      <td id=\"T_a394e_row1_col1\" class=\"data row1 col1\" >img2/insta27952</td>\n",
       "      <td id=\"T_a394e_row1_col2\" class=\"data row1 col2\" >Taaaaddaaaaa!!!🍾🥂 #Cannes2019 @lorealmakeup @lorealhair @lorealskin</td>\n",
       "    </tr>\n",
       "    <tr>\n",
       "      <th id=\"T_a394e_level0_row2\" class=\"row_heading level0 row2\" >7582</th>\n",
       "      <td id=\"T_a394e_row2_col0\" class=\"data row2 col0\" >28099</td>\n",
       "      <td id=\"T_a394e_row2_col1\" class=\"data row2 col1\" >img2/insta28099</td>\n",
       "      <td id=\"T_a394e_row2_col2\" class=\"data row2 col2\" >Happy Mornings...😊</td>\n",
       "    </tr>\n",
       "    <tr>\n",
       "      <th id=\"T_a394e_level0_row3\" class=\"row_heading level0 row3\" >10543</th>\n",
       "      <td id=\"T_a394e_row3_col0\" class=\"data row3 col0\" >31060</td>\n",
       "      <td id=\"T_a394e_row3_col1\" class=\"data row3 col1\" >img2/insta31060</td>\n",
       "      <td id=\"T_a394e_row3_col2\" class=\"data row3 col2\" >drop ya favorite shade name in the comments! 😜🌶 💜\n",
       "#MOROCCANSPICEPALETTE @fentybeauty</td>\n",
       "    </tr>\n",
       "    <tr>\n",
       "      <th id=\"T_a394e_level0_row4\" class=\"row_heading level0 row4\" >8288</th>\n",
       "      <td id=\"T_a394e_row4_col0\" class=\"data row4 col0\" >28805</td>\n",
       "      <td id=\"T_a394e_row4_col1\" class=\"data row4 col1\" >img2/insta28805</td>\n",
       "      <td id=\"T_a394e_row4_col2\" class=\"data row4 col2\" >So finally we see each other 😘 senior rockstar ⭐️⭐️ @krunalpandya_official #rockstar</td>\n",
       "    </tr>\n",
       "  </tbody>\n",
       "</table>\n"
      ],
      "text/plain": [
       "<pandas.io.formats.style.Styler at 0x7eb0091f2ef0>"
      ]
     },
     "execution_count": 6,
     "metadata": {},
     "output_type": "execute_result"
    }
   ],
   "source": [
    "image_caption_img2.sample(5).style.set_properties(**{'background-color': '#f9f9f9', 'color': '#4CAF50', 'font-weight': 'bold'})"
   ]
  },
  {
   "cell_type": "markdown",
   "id": "76d1a0f0",
   "metadata": {
    "papermill": {
     "duration": 0.01383,
     "end_time": "2024-05-19T22:32:51.773071",
     "exception": false,
     "start_time": "2024-05-19T22:32:51.759241",
     "status": "completed"
    },
    "tags": []
   },
   "source": [
    "<div style=\"color:#FF5733; background-color:#F7DC6F; padding: 20px; border-radius: 15px; font-size: 200%; font-family: 'Segoe UI', Tahoma, Geneva, Verdana, sans-serif; text-align:center; text-shadow: 2px 2px 4px rgba(0, 0, 0, 0.7);\"> 📜CAPTIONS LOADING📜 </div>"
   ]
  },
  {
   "cell_type": "code",
   "execution_count": 7,
   "id": "f57524fd",
   "metadata": {
    "execution": {
     "iopub.execute_input": "2024-05-19T22:32:51.802568Z",
     "iopub.status.busy": "2024-05-19T22:32:51.802270Z",
     "iopub.status.idle": "2024-05-19T22:34:39.749481Z",
     "shell.execute_reply": "2024-05-19T22:34:39.748659Z"
    },
    "papermill": {
     "duration": 107.964322,
     "end_time": "2024-05-19T22:34:39.751724",
     "exception": false,
     "start_time": "2024-05-19T22:32:51.787402",
     "status": "completed"
    },
    "tags": []
   },
   "outputs": [
    {
     "name": "stdout",
     "output_type": "stream",
     "text": [
      "Columns in /kaggle/input/instagram-images-with-captions/instagram_data/captions_csv.csv: ['Sr No', 'Image File', 'Caption']\n",
      "Columns in /kaggle/input/instagram-images-with-captions/instagram_data2/captions_csv2.csv: ['20516', 'img2/insta20516', 'wHaT dAy Is It Even #stayhomeclub']\n"
     ]
    }
   ],
   "source": [
    "# Update the load_captions function to include file extensions in the paths\n",
    "def load_captions(data_folders):\n",
    "    captions_dict = {}\n",
    "    for img_folder, caption_file in data_folders:\n",
    "        df = pd.read_csv(caption_file)\n",
    "        df.columns = df.columns.str.strip()  # Strip any leading/trailing spaces\n",
    "        print(f\"Columns in {caption_file}: {df.columns.tolist()}\")  # Debugging line to check column names\n",
    "        \n",
    "        if 'Image File' in df.columns and 'Caption' in df.columns:\n",
    "            for _, row in df.iterrows():\n",
    "                img_path = os.path.join(img_folder, row['Image File'] + '.jpg')  # Add the file extension (e.g., '.jpg')\n",
    "                if os.path.exists(img_path):\n",
    "                    captions_dict[img_path] = row['Caption']\n",
    "                else:\n",
    "                    print(f\"File not found: {img_path}\")\n",
    "        else:\n",
    "            df.columns = ['Sr No', 'Image File', 'Caption']\n",
    "            for _, row in df.iterrows():\n",
    "                img_path = os.path.join(img_folder, row['Image File'] + '.jpg')  # Add the file extension (e.g., '.jpg')\n",
    "                if os.path.exists(img_path):\n",
    "                    captions_dict[img_path] = row['Caption']\n",
    "                else:\n",
    "                    pass\n",
    "                    #print(f\"File not found: {img_path}\")\n",
    "                \n",
    "    return captions_dict\n",
    "\n",
    "# Load captions with adjusted paths\n",
    "captions_dict = load_captions(data_folders)"
   ]
  },
  {
   "cell_type": "code",
   "execution_count": 8,
   "id": "e9aeb730",
   "metadata": {
    "execution": {
     "iopub.execute_input": "2024-05-19T22:34:39.783545Z",
     "iopub.status.busy": "2024-05-19T22:34:39.783233Z",
     "iopub.status.idle": "2024-05-19T22:34:39.795325Z",
     "shell.execute_reply": "2024-05-19T22:34:39.794148Z"
    },
    "papermill": {
     "duration": 0.030025,
     "end_time": "2024-05-19T22:34:39.797277",
     "exception": false,
     "start_time": "2024-05-19T22:34:39.767252",
     "status": "completed"
    },
    "tags": []
   },
   "outputs": [
    {
     "name": "stdout",
     "output_type": "stream",
     "text": [
      "Sample captions: [('/kaggle/input/instagram-images-with-captions/instagram_data/img/insta1.jpg', nan), ('/kaggle/input/instagram-images-with-captions/instagram_data/img/insta2.jpg', 'bye '), ('/kaggle/input/instagram-images-with-captions/instagram_data/img/insta3.jpg', 'Ok, a few more... sorry I just had so much fun that day '), ('/kaggle/input/instagram-images-with-captions/instagram_data/img/insta4.jpg', 'This was one of my favorite shoots I’ve ever done! Thank you -a seriously badass woman, for shooting my cover! And thank you to everyone who asked a question for the interview 🤍 '), ('/kaggle/input/instagram-images-with-captions/instagram_data/img/insta5.jpg', 'Wrapped round my finger like a ring ')]\n"
     ]
    }
   ],
   "source": [
    "print(\"Sample captions:\", list(captions_dict.items())[:5])"
   ]
  },
  {
   "cell_type": "markdown",
   "id": "fd89df24",
   "metadata": {
    "papermill": {
     "duration": 0.014811,
     "end_time": "2024-05-19T22:34:39.827490",
     "exception": false,
     "start_time": "2024-05-19T22:34:39.812679",
     "status": "completed"
    },
    "tags": []
   },
   "source": [
    "<div style=\"color:#FF5733; background-color:#F7DC6F; padding: 20px; border-radius: 15px; font-size: 200%; font-family: 'Segoe UI', Tahoma, Geneva, Verdana, sans-serif; text-align:center; text-shadow: 2px 2px 4px rgba(0, 0, 0, 0.7);\"> 🛠PREPROCESS DATA🛠 </div>"
   ]
  },
  {
   "cell_type": "code",
   "execution_count": 9,
   "id": "e8628182",
   "metadata": {
    "execution": {
     "iopub.execute_input": "2024-05-19T22:34:39.859175Z",
     "iopub.status.busy": "2024-05-19T22:34:39.858831Z",
     "iopub.status.idle": "2024-05-19T22:34:39.864110Z",
     "shell.execute_reply": "2024-05-19T22:34:39.863207Z"
    },
    "papermill": {
     "duration": 0.023266,
     "end_time": "2024-05-19T22:34:39.866174",
     "exception": false,
     "start_time": "2024-05-19T22:34:39.842908",
     "status": "completed"
    },
    "tags": []
   },
   "outputs": [],
   "source": [
    "# Preprocess images\n",
    "def preprocess_image(img_path, target_size=(299, 299)):\n",
    "    img = image.load_img(img_path, target_size=target_size)\n",
    "    img = image.img_to_array(img)\n",
    "    img = np.expand_dims(img, axis=0)\n",
    "    img = img / 255.0  # Normalize to [0, 1]\n",
    "    return img"
   ]
  },
  {
   "cell_type": "markdown",
   "id": "374b4c61",
   "metadata": {
    "papermill": {
     "duration": 0.018117,
     "end_time": "2024-05-19T22:34:39.902304",
     "exception": false,
     "start_time": "2024-05-19T22:34:39.884187",
     "status": "completed"
    },
    "tags": []
   },
   "source": [
    "<div style=\"color:#FF5733; background-color:#F7DC6F; padding: 20px; border-radius: 15px; font-size: 200%; font-family: 'Segoe UI', Tahoma, Geneva, Verdana, sans-serif; text-align:center; text-shadow: 2px 2px 4px rgba(0, 0, 0, 0.7);\"> 🔍EXTRACT FEATURES🔍 </div>"
   ]
  },
  {
   "cell_type": "code",
   "execution_count": 10,
   "id": "448f306a",
   "metadata": {
    "execution": {
     "iopub.execute_input": "2024-05-19T22:34:39.941724Z",
     "iopub.status.busy": "2024-05-19T22:34:39.940597Z",
     "iopub.status.idle": "2024-05-19T22:34:39.947058Z",
     "shell.execute_reply": "2024-05-19T22:34:39.946141Z"
    },
    "papermill": {
     "duration": 0.027928,
     "end_time": "2024-05-19T22:34:39.949231",
     "exception": false,
     "start_time": "2024-05-19T22:34:39.921303",
     "status": "completed"
    },
    "tags": []
   },
   "outputs": [],
   "source": [
    "# Extract features using InceptionV3\n",
    "def extract_features(img_path, model):\n",
    "    img = preprocess_image(img_path)\n",
    "    features = model.predict(img)\n",
    "    features = np.reshape(features, features.shape[1])\n",
    "    return features"
   ]
  },
  {
   "cell_type": "markdown",
   "id": "30f73e30",
   "metadata": {
    "papermill": {
     "duration": 0.014305,
     "end_time": "2024-05-19T22:34:39.978470",
     "exception": false,
     "start_time": "2024-05-19T22:34:39.964165",
     "status": "completed"
    },
    "tags": []
   },
   "source": [
    "<div style=\"color:#FF5733; background-color:#F7DC6F; padding: 20px; border-radius: 15px; font-size: 200%; font-family: 'Segoe UI', Tahoma, Geneva, Verdana, sans-serif; text-align:center; text-shadow: 2px 2px 4px rgba(0, 0, 0, 0.7);\"> 📜SAMPLE OF DATA📜 </div>"
   ]
  },
  {
   "cell_type": "code",
   "execution_count": 11,
   "id": "45efac81",
   "metadata": {
    "execution": {
     "iopub.execute_input": "2024-05-19T22:34:40.009497Z",
     "iopub.status.busy": "2024-05-19T22:34:40.008534Z",
     "iopub.status.idle": "2024-05-19T22:34:43.813090Z",
     "shell.execute_reply": "2024-05-19T22:34:43.812256Z"
    },
    "papermill": {
     "duration": 3.822616,
     "end_time": "2024-05-19T22:34:43.815517",
     "exception": false,
     "start_time": "2024-05-19T22:34:39.992901",
     "status": "completed"
    },
    "tags": []
   },
   "outputs": [
    {
     "name": "stdout",
     "output_type": "stream",
     "text": [
      "Downloading data from https://storage.googleapis.com/tensorflow/keras-applications/inception_v3/inception_v3_weights_tf_dim_ordering_tf_kernels.h5\n",
      "\u001b[1m96112376/96112376\u001b[0m \u001b[32m━━━━━━━━━━━━━━━━━━━━\u001b[0m\u001b[37m\u001b[0m \u001b[1m1s\u001b[0m 0us/step\n"
     ]
    }
   ],
   "source": [
    "# Load InceptionV3 model\n",
    "image_model = InceptionV3(weights='imagenet')\n",
    "new_input = image_model.input\n",
    "hidden_layer = image_model.layers[-2].output\n",
    "image_features_extract_model = Model(inputs=new_input, outputs=hidden_layer)"
   ]
  },
  {
   "cell_type": "markdown",
   "id": "ddcc92a8",
   "metadata": {
    "papermill": {
     "duration": 0.062859,
     "end_time": "2024-05-19T22:34:43.894247",
     "exception": false,
     "start_time": "2024-05-19T22:34:43.831388",
     "status": "completed"
    },
    "tags": []
   },
   "source": [
    "<div style=\"color:#FF5733; background-color:#F7DC6F; padding: 20px; border-radius: 15px; font-size: 200%; font-family: 'Segoe UI', Tahoma, Geneva, Verdana, sans-serif; text-align:center; text-shadow: 2px 2px 4px rgba(0, 0, 0, 0.7);\"> 🏝IMAGE PROCESS🛤 </div>"
   ]
  },
  {
   "cell_type": "code",
   "execution_count": 12,
   "id": "8c3deec5",
   "metadata": {
    "execution": {
     "iopub.execute_input": "2024-05-19T22:34:43.927019Z",
     "iopub.status.busy": "2024-05-19T22:34:43.926617Z",
     "iopub.status.idle": "2024-05-19T22:34:43.934226Z",
     "shell.execute_reply": "2024-05-19T22:34:43.933256Z"
    },
    "papermill": {
     "duration": 0.026549,
     "end_time": "2024-05-19T22:34:43.936386",
     "exception": false,
     "start_time": "2024-05-19T22:34:43.909837",
     "status": "completed"
    },
    "tags": []
   },
   "outputs": [
    {
     "data": {
      "text/plain": [
       "'import os\\nimport concurrent.futures\\nfrom tqdm import tqdm\\n\\n# Define a function to extract features for a single image\\ndef process_image(img_path, pbar):\\n    if os.path.exists(img_path):\\n        features = extract_features(img_path, image_features_extract_model)\\n        image_features[img_path] = features\\n    else:\\n        print(f\"File not found: {img_path}\")\\n    pbar.update(1)  # Update the progress bar\\n\\n# Process images in parallel using threading\\nimage_features = {}\\nwith tqdm(total=len(captions_dict), desc=\"Processing images\", leave=False) as pbar:\\n    with concurrent.futures.ThreadPoolExecutor() as executor:\\n        # Use threading instead of multiprocessing\\n        futures = [executor.submit(process_image, img_path, pbar) for img_path in captions_dict.keys()]\\n        for future in concurrent.futures.as_completed(futures):\\n            pass  # Wait for all threads to complete'"
      ]
     },
     "execution_count": 12,
     "metadata": {},
     "output_type": "execute_result"
    }
   ],
   "source": [
    "\"\"\"import os\n",
    "import concurrent.futures\n",
    "from tqdm import tqdm\n",
    "\n",
    "# Define a function to extract features for a single image\n",
    "def process_image(img_path, pbar):\n",
    "    if os.path.exists(img_path):\n",
    "        features = extract_features(img_path, image_features_extract_model)\n",
    "        image_features[img_path] = features\n",
    "    else:\n",
    "        print(f\"File not found: {img_path}\")\n",
    "    pbar.update(1)  # Update the progress bar\n",
    "\n",
    "# Process images in parallel using threading\n",
    "image_features = {}\n",
    "with tqdm(total=len(captions_dict), desc=\"Processing images\", leave=False) as pbar:\n",
    "    with concurrent.futures.ThreadPoolExecutor() as executor:\n",
    "        # Use threading instead of multiprocessing\n",
    "        futures = [executor.submit(process_image, img_path, pbar) for img_path in captions_dict.keys()]\n",
    "        for future in concurrent.futures.as_completed(futures):\n",
    "            pass  # Wait for all threads to complete\"\"\""
   ]
  },
  {
   "cell_type": "code",
   "execution_count": 13,
   "id": "8b54430c",
   "metadata": {
    "execution": {
     "iopub.execute_input": "2024-05-19T22:34:43.969701Z",
     "iopub.status.busy": "2024-05-19T22:34:43.969394Z",
     "iopub.status.idle": "2024-05-19T22:34:43.973324Z",
     "shell.execute_reply": "2024-05-19T22:34:43.972420Z"
    },
    "papermill": {
     "duration": 0.022857,
     "end_time": "2024-05-19T22:34:43.975240",
     "exception": false,
     "start_time": "2024-05-19T22:34:43.952383",
     "status": "completed"
    },
    "tags": []
   },
   "outputs": [],
   "source": [
    "# Save the extracted image features to a file\n",
    "#output_file = \"image_features.pkl\"\n",
    "#with open(output_file, \"wb\") as f:\n",
    "#    pickle.dump(image_features, f)"
   ]
  },
  {
   "cell_type": "code",
   "execution_count": 14,
   "id": "195dc52e",
   "metadata": {
    "execution": {
     "iopub.execute_input": "2024-05-19T22:34:44.008018Z",
     "iopub.status.busy": "2024-05-19T22:34:44.007701Z",
     "iopub.status.idle": "2024-05-19T22:34:47.434645Z",
     "shell.execute_reply": "2024-05-19T22:34:47.433661Z"
    },
    "papermill": {
     "duration": 3.446049,
     "end_time": "2024-05-19T22:34:47.437040",
     "exception": false,
     "start_time": "2024-05-19T22:34:43.990991",
     "status": "completed"
    },
    "tags": []
   },
   "outputs": [],
   "source": [
    "input_file = \"/kaggle/input/image-process-pickle/image_features.pkl\"\n",
    "with open(input_file, \"rb\") as f:\n",
    "    image_features = pickle.load(f)\n",
    "\n",
    "#for img_path, features in image_features.items():\n",
    "#    print(f\"Image Path: {img_path}\")\n",
    "#    print(\"Features:\", features)"
   ]
  },
  {
   "cell_type": "code",
   "execution_count": 15,
   "id": "0291e453",
   "metadata": {
    "execution": {
     "iopub.execute_input": "2024-05-19T22:34:47.470680Z",
     "iopub.status.busy": "2024-05-19T22:34:47.470355Z",
     "iopub.status.idle": "2024-05-19T22:34:47.489091Z",
     "shell.execute_reply": "2024-05-19T22:34:47.488125Z"
    },
    "papermill": {
     "duration": 0.038288,
     "end_time": "2024-05-19T22:34:47.491042",
     "exception": false,
     "start_time": "2024-05-19T22:34:47.452754",
     "status": "completed"
    },
    "tags": []
   },
   "outputs": [],
   "source": [
    "# Ensure captions_dict only contains paths that have corresponding image features\n",
    "captions_dict = {k: v for k, v in captions_dict.items() if k in image_features}"
   ]
  },
  {
   "cell_type": "code",
   "execution_count": 16,
   "id": "7fe70247",
   "metadata": {
    "execution": {
     "iopub.execute_input": "2024-05-19T22:34:47.525014Z",
     "iopub.status.busy": "2024-05-19T22:34:47.524672Z",
     "iopub.status.idle": "2024-05-19T22:34:47.540347Z",
     "shell.execute_reply": "2024-05-19T22:34:47.539398Z"
    },
    "papermill": {
     "duration": 0.034817,
     "end_time": "2024-05-19T22:34:47.542353",
     "exception": false,
     "start_time": "2024-05-19T22:34:47.507536",
     "status": "completed"
    },
    "tags": []
   },
   "outputs": [],
   "source": [
    "# Filter out invalid captions\n",
    "captions_dict = {k: v for k, v in captions_dict.items() if isinstance(v, str)}"
   ]
  },
  {
   "cell_type": "markdown",
   "id": "f5a17249",
   "metadata": {
    "papermill": {
     "duration": 0.015843,
     "end_time": "2024-05-19T22:34:47.574746",
     "exception": false,
     "start_time": "2024-05-19T22:34:47.558903",
     "status": "completed"
    },
    "tags": []
   },
   "source": [
    "<div style=\"color:#FF5733; background-color:#F7DC6F; padding: 20px; border-radius: 15px; font-size: 200%; font-family: 'Segoe UI', Tahoma, Geneva, Verdana, sans-serif; text-align:center; text-shadow: 2px 2px 4px rgba(0, 0, 0, 0.7);\">✔TOKENIZATION AND PADDING✔</div>"
   ]
  },
  {
   "cell_type": "code",
   "execution_count": 17,
   "id": "0631b6c7",
   "metadata": {
    "execution": {
     "iopub.execute_input": "2024-05-19T22:34:47.607756Z",
     "iopub.status.busy": "2024-05-19T22:34:47.607132Z",
     "iopub.status.idle": "2024-05-19T22:34:48.863723Z",
     "shell.execute_reply": "2024-05-19T22:34:48.862770Z"
    },
    "papermill": {
     "duration": 1.275472,
     "end_time": "2024-05-19T22:34:48.865979",
     "exception": false,
     "start_time": "2024-05-19T22:34:47.590507",
     "status": "completed"
    },
    "tags": []
   },
   "outputs": [
    {
     "name": "stdout",
     "output_type": "stream",
     "text": [
      "Tokenizer and sequences prepared successfully.\n",
      "Sample sequence: [11, 35, 46, 12, 3, 147, 1372, 427, 138, 309, 22, 6, 8, 1042, 3426, 482, 10, 611, 3, 124, 7, 22, 6, 4, 132, 67, 1691, 8, 4372, 10, 2, 804, 1981]\n",
      "Padded sequence: [  11   35   46   12    3  147 1372  427  138  309   22    6    8 1042\n",
      " 3426  482   10  611    3  124    7   22    6    4  132   67 1691    8\n",
      " 4372   10    2  804 1981    0    0    0    0    0    0    0    0    0\n",
      "    0    0    0    0    0    0    0    0    0    0    0    0    0    0\n",
      "    0    0    0    0    0    0    0    0    0    0    0    0    0    0\n",
      "    0    0    0    0    0    0    0    0    0    0    0    0    0    0\n",
      "    0    0    0    0    0    0    0    0    0    0    0    0    0    0\n",
      "    0    0    0    0    0    0    0    0    0    0    0    0    0    0\n",
      "    0    0    0    0    0    0    0    0    0    0    0    0    0    0\n",
      "    0    0    0    0    0    0    0    0    0    0    0    0    0    0\n",
      "    0    0    0    0    0    0    0    0    0    0    0    0    0    0\n",
      "    0    0    0    0    0    0    0    0    0    0    0    0    0    0\n",
      "    0    0    0    0    0    0    0    0    0    0    0    0    0    0\n",
      "    0    0    0    0    0    0    0    0    0    0    0    0    0    0\n",
      "    0    0    0    0    0    0    0    0    0    0    0    0    0    0\n",
      "    0    0    0    0    0    0    0    0    0    0    0    0    0    0\n",
      "    0    0    0    0    0    0    0    0    0    0    0    0    0    0\n",
      "    0    0    0    0    0    0    0    0    0    0    0    0    0    0\n",
      "    0    0    0    0    0    0    0    0    0    0    0    0    0    0\n",
      "    0    0    0    0    0    0    0    0    0    0    0    0    0    0\n",
      "    0    0    0    0    0    0    0    0    0    0    0    0    0    0\n",
      "    0    0    0    0    0    0    0    0    0    0    0    0    0    0\n",
      "    0    0    0    0    0    0    0    0    0    0    0    0    0    0\n",
      "    0    0    0    0    0    0    0    0    0    0    0    0    0    0\n",
      "    0    0    0    0    0    0    0    0    0    0    0    0    0    0\n",
      "    0    0    0    0    0    0    0    0    0    0    0    0    0    0\n",
      "    0    0    0    0    0    0    0    0    0    0    0    0    0    0\n",
      "    0    0    0    0    0    0    0    0    0    0    0    0    0    0\n",
      "    0    0    0    0    0    0    0    0    0    0    0    0]\n",
      "Max sequence length: 404\n"
     ]
    }
   ],
   "source": [
    "# Extract captions from the dictionary and handle missing values\n",
    "captions = [caption if isinstance(caption, str) else '' for caption in captions_dict.values()]\n",
    "\n",
    "# Initialize the tokenizer\n",
    "tokenizer = Tokenizer(num_words=5000, oov_token='<unk>')\n",
    "tokenizer.fit_on_texts(captions)\n",
    "\n",
    "# Convert captions to sequences\n",
    "sequences = tokenizer.texts_to_sequences(captions)\n",
    "\n",
    "# Pad the sequences\n",
    "max_length = max(len(seq) for seq in sequences)\n",
    "padded_sequences = pad_sequences(sequences, maxlen=max_length, padding='post')\n",
    "\n",
    "print(\"Tokenizer and sequences prepared successfully.\")\n",
    "print(\"Sample sequence:\", sequences[2])\n",
    "print(\"Padded sequence:\", padded_sequences[2])\n",
    "print(\"Max sequence length:\", max_length)"
   ]
  },
  {
   "cell_type": "markdown",
   "id": "e8ab3c4c",
   "metadata": {
    "papermill": {
     "duration": 0.015849,
     "end_time": "2024-05-19T22:34:48.897851",
     "exception": false,
     "start_time": "2024-05-19T22:34:48.882002",
     "status": "completed"
    },
    "tags": []
   },
   "source": [
    "<div style=\"color:#FF5733; background-color:#F7DC6F; padding: 20px; border-radius: 15px; font-size: 200%; font-family: 'Segoe UI', Tahoma, Geneva, Verdana, sans-serif; text-align:center; text-shadow: 2px 2px 4px rgba(0, 0, 0, 0.7);\"> 🧾DATA GENERATOR🧾 </div>"
   ]
  },
  {
   "cell_type": "code",
   "execution_count": 18,
   "id": "b828183a",
   "metadata": {
    "execution": {
     "iopub.execute_input": "2024-05-19T22:34:48.930814Z",
     "iopub.status.busy": "2024-05-19T22:34:48.930492Z",
     "iopub.status.idle": "2024-05-19T22:34:48.934698Z",
     "shell.execute_reply": "2024-05-19T22:34:48.933807Z"
    },
    "papermill": {
     "duration": 0.023204,
     "end_time": "2024-05-19T22:34:48.936568",
     "exception": false,
     "start_time": "2024-05-19T22:34:48.913364",
     "status": "completed"
    },
    "tags": []
   },
   "outputs": [],
   "source": [
    "from keras.utils import to_categorical, Sequence"
   ]
  },
  {
   "cell_type": "code",
   "execution_count": 19,
   "id": "d8ae7af3",
   "metadata": {
    "execution": {
     "iopub.execute_input": "2024-05-19T22:34:48.969382Z",
     "iopub.status.busy": "2024-05-19T22:34:48.969036Z",
     "iopub.status.idle": "2024-05-19T22:34:48.977584Z",
     "shell.execute_reply": "2024-05-19T22:34:48.976708Z"
    },
    "papermill": {
     "duration": 0.027211,
     "end_time": "2024-05-19T22:34:48.979518",
     "exception": false,
     "start_time": "2024-05-19T22:34:48.952307",
     "status": "completed"
    },
    "tags": []
   },
   "outputs": [],
   "source": [
    "# Data generator\n",
    "def data_generator(captions_dict, image_features, tokenizer, max_length, batch_size=32):\n",
    "    keys = list(captions_dict.keys())\n",
    "    \n",
    "    def generator():\n",
    "        for index in range(0, len(keys), batch_size):\n",
    "            batch_keys = keys[index:index + batch_size]\n",
    "            X1, X2, y = [], [], []\n",
    "            for img_path in batch_keys:\n",
    "                feature = image_features[img_path]\n",
    "                caption = captions_dict[img_path]\n",
    "                seq = tokenizer.texts_to_sequences([caption])[0]\n",
    "                for i in range(1, len(seq)):\n",
    "                    in_seq, out_seq = seq[:i], seq[i]\n",
    "                    in_seq = pad_sequences([in_seq], maxlen=max_length)[0]\n",
    "                    # Ensure that X1 and X2 are tuples\n",
    "                    X1.append(feature)\n",
    "                    X2.append(in_seq)\n",
    "                    # Append out_seq directly to y\n",
    "                    y.append(out_seq)\n",
    "            yield ((np.array(X1), np.array(X2)), np.array(y))\n",
    "\n",
    "    return generator"
   ]
  },
  {
   "cell_type": "code",
   "execution_count": 20,
   "id": "b0cbf295",
   "metadata": {
    "execution": {
     "iopub.execute_input": "2024-05-19T22:34:49.012915Z",
     "iopub.status.busy": "2024-05-19T22:34:49.012625Z",
     "iopub.status.idle": "2024-05-19T22:34:49.016846Z",
     "shell.execute_reply": "2024-05-19T22:34:49.015960Z"
    },
    "papermill": {
     "duration": 0.023035,
     "end_time": "2024-05-19T22:34:49.018750",
     "exception": false,
     "start_time": "2024-05-19T22:34:48.995715",
     "status": "completed"
    },
    "tags": []
   },
   "outputs": [],
   "source": [
    "# Get the vocabulary size from the tokenizer\n",
    "vocab_size = len(tokenizer.word_index) + 1  # Adding 1 for the <unk> token"
   ]
  },
  {
   "cell_type": "code",
   "execution_count": 21,
   "id": "8a8bde56",
   "metadata": {
    "execution": {
     "iopub.execute_input": "2024-05-19T22:34:49.051499Z",
     "iopub.status.busy": "2024-05-19T22:34:49.051197Z",
     "iopub.status.idle": "2024-05-19T22:34:49.055884Z",
     "shell.execute_reply": "2024-05-19T22:34:49.054999Z"
    },
    "papermill": {
     "duration": 0.023493,
     "end_time": "2024-05-19T22:34:49.058116",
     "exception": false,
     "start_time": "2024-05-19T22:34:49.034623",
     "status": "completed"
    },
    "tags": []
   },
   "outputs": [
    {
     "name": "stdout",
     "output_type": "stream",
     "text": [
      "Vocal_size is:  27748\n"
     ]
    }
   ],
   "source": [
    "print(\"Vocal_size is: \",vocab_size)"
   ]
  },
  {
   "cell_type": "markdown",
   "id": "8b5ee167",
   "metadata": {
    "papermill": {
     "duration": 0.015605,
     "end_time": "2024-05-19T22:34:49.089476",
     "exception": false,
     "start_time": "2024-05-19T22:34:49.073871",
     "status": "completed"
    },
    "tags": []
   },
   "source": [
    "<div style=\"color:#FF5733; background-color:#F7DC6F; padding: 20px; border-radius: 15px; font-size: 200%; font-family: 'Segoe UI', Tahoma, Geneva, Verdana, sans-serif; text-align:center; text-shadow: 2px 2px 4px rgba(0, 0, 0, 0.7);\"> 🔥MODEL-1 (ENCODER-DECODER)🔥 </div>"
   ]
  },
  {
   "cell_type": "code",
   "execution_count": 22,
   "id": "e53ea52b",
   "metadata": {
    "execution": {
     "iopub.execute_input": "2024-05-19T22:34:49.123514Z",
     "iopub.status.busy": "2024-05-19T22:34:49.122828Z",
     "iopub.status.idle": "2024-05-19T22:34:50.150156Z",
     "shell.execute_reply": "2024-05-19T22:34:50.148974Z"
    },
    "papermill": {
     "duration": 1.04708,
     "end_time": "2024-05-19T22:34:50.152395",
     "exception": false,
     "start_time": "2024-05-19T22:34:49.105315",
     "status": "completed"
    },
    "tags": []
   },
   "outputs": [
    {
     "name": "stdout",
     "output_type": "stream",
     "text": [
      "Model created successfully.\n"
     ]
    }
   ],
   "source": [
    "# Model\n",
    "image_input = Input(shape=(2048,))\n",
    "image_dense1 = Dense(512, activation='relu')(image_input)\n",
    "image_dense2 = Dense(256, activation='relu')(image_dense1)  \n",
    "image_dense3 = Dense(256, activation='relu')(image_dense2)\n",
    "image_dense4 = Dense(256, activation='relu')(image_dense3)\n",
    "\n",
    "caption_input = Input(shape=(max_length,))\n",
    "embedding = Embedding(input_dim=vocab_size, output_dim=256)(caption_input)\n",
    "lstm = LSTM(256)(embedding)\n",
    "\n",
    "# Concatenate or add more dense layers for the image features and LSTM output\n",
    "merged = Add()([image_dense4, lstm])\n",
    "decoder_output = Dense(vocab_size, activation='softmax')(merged)\n",
    "\n",
    "model = Model(inputs=[image_input, caption_input], outputs=decoder_output)\n",
    "model.compile(optimizer='adam', loss='sparse_categorical_crossentropy')\n",
    "\n",
    "print(\"Model created successfully.\")"
   ]
  },
  {
   "cell_type": "code",
   "execution_count": 23,
   "id": "687d1e25",
   "metadata": {
    "execution": {
     "iopub.execute_input": "2024-05-19T22:34:50.188008Z",
     "iopub.status.busy": "2024-05-19T22:34:50.187665Z",
     "iopub.status.idle": "2024-05-19T22:34:50.216065Z",
     "shell.execute_reply": "2024-05-19T22:34:50.215137Z"
    },
    "papermill": {
     "duration": 0.048802,
     "end_time": "2024-05-19T22:34:50.218242",
     "exception": false,
     "start_time": "2024-05-19T22:34:50.169440",
     "status": "completed"
    },
    "tags": []
   },
   "outputs": [
    {
     "data": {
      "text/html": [
       "<pre style=\"white-space:pre;overflow-x:auto;line-height:normal;font-family:Menlo,'DejaVu Sans Mono',consolas,'Courier New',monospace\"><span style=\"font-weight: bold\">Model: \"functional_3\"</span>\n",
       "</pre>\n"
      ],
      "text/plain": [
       "\u001b[1mModel: \"functional_3\"\u001b[0m\n"
      ]
     },
     "metadata": {},
     "output_type": "display_data"
    },
    {
     "data": {
      "text/html": [
       "<pre style=\"white-space:pre;overflow-x:auto;line-height:normal;font-family:Menlo,'DejaVu Sans Mono',consolas,'Courier New',monospace\">┏━━━━━━━━━━━━━━━━━━━━━┳━━━━━━━━━━━━━━━━━━━┳━━━━━━━━━━━━┳━━━━━━━━━━━━━━━━━━━┓\n",
       "┃<span style=\"font-weight: bold\"> Layer (type)        </span>┃<span style=\"font-weight: bold\"> Output Shape      </span>┃<span style=\"font-weight: bold\">    Param # </span>┃<span style=\"font-weight: bold\"> Connected to      </span>┃\n",
       "┡━━━━━━━━━━━━━━━━━━━━━╇━━━━━━━━━━━━━━━━━━━╇━━━━━━━━━━━━╇━━━━━━━━━━━━━━━━━━━┩\n",
       "│ input_layer_1       │ (<span style=\"color: #00d7ff; text-decoration-color: #00d7ff\">None</span>, <span style=\"color: #00af00; text-decoration-color: #00af00\">2048</span>)      │          <span style=\"color: #00af00; text-decoration-color: #00af00\">0</span> │ -                 │\n",
       "│ (<span style=\"color: #0087ff; text-decoration-color: #0087ff\">InputLayer</span>)        │                   │            │                   │\n",
       "├─────────────────────┼───────────────────┼────────────┼───────────────────┤\n",
       "│ dense (<span style=\"color: #0087ff; text-decoration-color: #0087ff\">Dense</span>)       │ (<span style=\"color: #00d7ff; text-decoration-color: #00d7ff\">None</span>, <span style=\"color: #00af00; text-decoration-color: #00af00\">512</span>)       │  <span style=\"color: #00af00; text-decoration-color: #00af00\">1,049,088</span> │ input_layer_1[<span style=\"color: #00af00; text-decoration-color: #00af00\">0</span>]… │\n",
       "├─────────────────────┼───────────────────┼────────────┼───────────────────┤\n",
       "│ dense_1 (<span style=\"color: #0087ff; text-decoration-color: #0087ff\">Dense</span>)     │ (<span style=\"color: #00d7ff; text-decoration-color: #00d7ff\">None</span>, <span style=\"color: #00af00; text-decoration-color: #00af00\">256</span>)       │    <span style=\"color: #00af00; text-decoration-color: #00af00\">131,328</span> │ dense[<span style=\"color: #00af00; text-decoration-color: #00af00\">0</span>][<span style=\"color: #00af00; text-decoration-color: #00af00\">0</span>]       │\n",
       "├─────────────────────┼───────────────────┼────────────┼───────────────────┤\n",
       "│ input_layer_2       │ (<span style=\"color: #00d7ff; text-decoration-color: #00d7ff\">None</span>, <span style=\"color: #00af00; text-decoration-color: #00af00\">404</span>)       │          <span style=\"color: #00af00; text-decoration-color: #00af00\">0</span> │ -                 │\n",
       "│ (<span style=\"color: #0087ff; text-decoration-color: #0087ff\">InputLayer</span>)        │                   │            │                   │\n",
       "├─────────────────────┼───────────────────┼────────────┼───────────────────┤\n",
       "│ dense_2 (<span style=\"color: #0087ff; text-decoration-color: #0087ff\">Dense</span>)     │ (<span style=\"color: #00d7ff; text-decoration-color: #00d7ff\">None</span>, <span style=\"color: #00af00; text-decoration-color: #00af00\">256</span>)       │     <span style=\"color: #00af00; text-decoration-color: #00af00\">65,792</span> │ dense_1[<span style=\"color: #00af00; text-decoration-color: #00af00\">0</span>][<span style=\"color: #00af00; text-decoration-color: #00af00\">0</span>]     │\n",
       "├─────────────────────┼───────────────────┼────────────┼───────────────────┤\n",
       "│ embedding           │ (<span style=\"color: #00d7ff; text-decoration-color: #00d7ff\">None</span>, <span style=\"color: #00af00; text-decoration-color: #00af00\">404</span>, <span style=\"color: #00af00; text-decoration-color: #00af00\">256</span>)  │  <span style=\"color: #00af00; text-decoration-color: #00af00\">7,103,488</span> │ input_layer_2[<span style=\"color: #00af00; text-decoration-color: #00af00\">0</span>]… │\n",
       "│ (<span style=\"color: #0087ff; text-decoration-color: #0087ff\">Embedding</span>)         │                   │            │                   │\n",
       "├─────────────────────┼───────────────────┼────────────┼───────────────────┤\n",
       "│ dense_3 (<span style=\"color: #0087ff; text-decoration-color: #0087ff\">Dense</span>)     │ (<span style=\"color: #00d7ff; text-decoration-color: #00d7ff\">None</span>, <span style=\"color: #00af00; text-decoration-color: #00af00\">256</span>)       │     <span style=\"color: #00af00; text-decoration-color: #00af00\">65,792</span> │ dense_2[<span style=\"color: #00af00; text-decoration-color: #00af00\">0</span>][<span style=\"color: #00af00; text-decoration-color: #00af00\">0</span>]     │\n",
       "├─────────────────────┼───────────────────┼────────────┼───────────────────┤\n",
       "│ lstm (<span style=\"color: #0087ff; text-decoration-color: #0087ff\">LSTM</span>)         │ (<span style=\"color: #00d7ff; text-decoration-color: #00d7ff\">None</span>, <span style=\"color: #00af00; text-decoration-color: #00af00\">256</span>)       │    <span style=\"color: #00af00; text-decoration-color: #00af00\">525,312</span> │ embedding[<span style=\"color: #00af00; text-decoration-color: #00af00\">0</span>][<span style=\"color: #00af00; text-decoration-color: #00af00\">0</span>]   │\n",
       "├─────────────────────┼───────────────────┼────────────┼───────────────────┤\n",
       "│ add (<span style=\"color: #0087ff; text-decoration-color: #0087ff\">Add</span>)           │ (<span style=\"color: #00d7ff; text-decoration-color: #00d7ff\">None</span>, <span style=\"color: #00af00; text-decoration-color: #00af00\">256</span>)       │          <span style=\"color: #00af00; text-decoration-color: #00af00\">0</span> │ dense_3[<span style=\"color: #00af00; text-decoration-color: #00af00\">0</span>][<span style=\"color: #00af00; text-decoration-color: #00af00\">0</span>],    │\n",
       "│                     │                   │            │ lstm[<span style=\"color: #00af00; text-decoration-color: #00af00\">0</span>][<span style=\"color: #00af00; text-decoration-color: #00af00\">0</span>]        │\n",
       "├─────────────────────┼───────────────────┼────────────┼───────────────────┤\n",
       "│ dense_4 (<span style=\"color: #0087ff; text-decoration-color: #0087ff\">Dense</span>)     │ (<span style=\"color: #00d7ff; text-decoration-color: #00d7ff\">None</span>, <span style=\"color: #00af00; text-decoration-color: #00af00\">27748</span>)     │  <span style=\"color: #00af00; text-decoration-color: #00af00\">7,131,236</span> │ add[<span style=\"color: #00af00; text-decoration-color: #00af00\">0</span>][<span style=\"color: #00af00; text-decoration-color: #00af00\">0</span>]         │\n",
       "└─────────────────────┴───────────────────┴────────────┴───────────────────┘\n",
       "</pre>\n"
      ],
      "text/plain": [
       "┏━━━━━━━━━━━━━━━━━━━━━┳━━━━━━━━━━━━━━━━━━━┳━━━━━━━━━━━━┳━━━━━━━━━━━━━━━━━━━┓\n",
       "┃\u001b[1m \u001b[0m\u001b[1mLayer (type)       \u001b[0m\u001b[1m \u001b[0m┃\u001b[1m \u001b[0m\u001b[1mOutput Shape     \u001b[0m\u001b[1m \u001b[0m┃\u001b[1m \u001b[0m\u001b[1m   Param #\u001b[0m\u001b[1m \u001b[0m┃\u001b[1m \u001b[0m\u001b[1mConnected to     \u001b[0m\u001b[1m \u001b[0m┃\n",
       "┡━━━━━━━━━━━━━━━━━━━━━╇━━━━━━━━━━━━━━━━━━━╇━━━━━━━━━━━━╇━━━━━━━━━━━━━━━━━━━┩\n",
       "│ input_layer_1       │ (\u001b[38;5;45mNone\u001b[0m, \u001b[38;5;34m2048\u001b[0m)      │          \u001b[38;5;34m0\u001b[0m │ -                 │\n",
       "│ (\u001b[38;5;33mInputLayer\u001b[0m)        │                   │            │                   │\n",
       "├─────────────────────┼───────────────────┼────────────┼───────────────────┤\n",
       "│ dense (\u001b[38;5;33mDense\u001b[0m)       │ (\u001b[38;5;45mNone\u001b[0m, \u001b[38;5;34m512\u001b[0m)       │  \u001b[38;5;34m1,049,088\u001b[0m │ input_layer_1[\u001b[38;5;34m0\u001b[0m]… │\n",
       "├─────────────────────┼───────────────────┼────────────┼───────────────────┤\n",
       "│ dense_1 (\u001b[38;5;33mDense\u001b[0m)     │ (\u001b[38;5;45mNone\u001b[0m, \u001b[38;5;34m256\u001b[0m)       │    \u001b[38;5;34m131,328\u001b[0m │ dense[\u001b[38;5;34m0\u001b[0m][\u001b[38;5;34m0\u001b[0m]       │\n",
       "├─────────────────────┼───────────────────┼────────────┼───────────────────┤\n",
       "│ input_layer_2       │ (\u001b[38;5;45mNone\u001b[0m, \u001b[38;5;34m404\u001b[0m)       │          \u001b[38;5;34m0\u001b[0m │ -                 │\n",
       "│ (\u001b[38;5;33mInputLayer\u001b[0m)        │                   │            │                   │\n",
       "├─────────────────────┼───────────────────┼────────────┼───────────────────┤\n",
       "│ dense_2 (\u001b[38;5;33mDense\u001b[0m)     │ (\u001b[38;5;45mNone\u001b[0m, \u001b[38;5;34m256\u001b[0m)       │     \u001b[38;5;34m65,792\u001b[0m │ dense_1[\u001b[38;5;34m0\u001b[0m][\u001b[38;5;34m0\u001b[0m]     │\n",
       "├─────────────────────┼───────────────────┼────────────┼───────────────────┤\n",
       "│ embedding           │ (\u001b[38;5;45mNone\u001b[0m, \u001b[38;5;34m404\u001b[0m, \u001b[38;5;34m256\u001b[0m)  │  \u001b[38;5;34m7,103,488\u001b[0m │ input_layer_2[\u001b[38;5;34m0\u001b[0m]… │\n",
       "│ (\u001b[38;5;33mEmbedding\u001b[0m)         │                   │            │                   │\n",
       "├─────────────────────┼───────────────────┼────────────┼───────────────────┤\n",
       "│ dense_3 (\u001b[38;5;33mDense\u001b[0m)     │ (\u001b[38;5;45mNone\u001b[0m, \u001b[38;5;34m256\u001b[0m)       │     \u001b[38;5;34m65,792\u001b[0m │ dense_2[\u001b[38;5;34m0\u001b[0m][\u001b[38;5;34m0\u001b[0m]     │\n",
       "├─────────────────────┼───────────────────┼────────────┼───────────────────┤\n",
       "│ lstm (\u001b[38;5;33mLSTM\u001b[0m)         │ (\u001b[38;5;45mNone\u001b[0m, \u001b[38;5;34m256\u001b[0m)       │    \u001b[38;5;34m525,312\u001b[0m │ embedding[\u001b[38;5;34m0\u001b[0m][\u001b[38;5;34m0\u001b[0m]   │\n",
       "├─────────────────────┼───────────────────┼────────────┼───────────────────┤\n",
       "│ add (\u001b[38;5;33mAdd\u001b[0m)           │ (\u001b[38;5;45mNone\u001b[0m, \u001b[38;5;34m256\u001b[0m)       │          \u001b[38;5;34m0\u001b[0m │ dense_3[\u001b[38;5;34m0\u001b[0m][\u001b[38;5;34m0\u001b[0m],    │\n",
       "│                     │                   │            │ lstm[\u001b[38;5;34m0\u001b[0m][\u001b[38;5;34m0\u001b[0m]        │\n",
       "├─────────────────────┼───────────────────┼────────────┼───────────────────┤\n",
       "│ dense_4 (\u001b[38;5;33mDense\u001b[0m)     │ (\u001b[38;5;45mNone\u001b[0m, \u001b[38;5;34m27748\u001b[0m)     │  \u001b[38;5;34m7,131,236\u001b[0m │ add[\u001b[38;5;34m0\u001b[0m][\u001b[38;5;34m0\u001b[0m]         │\n",
       "└─────────────────────┴───────────────────┴────────────┴───────────────────┘\n"
      ]
     },
     "metadata": {},
     "output_type": "display_data"
    },
    {
     "data": {
      "text/html": [
       "<pre style=\"white-space:pre;overflow-x:auto;line-height:normal;font-family:Menlo,'DejaVu Sans Mono',consolas,'Courier New',monospace\"><span style=\"font-weight: bold\"> Total params: </span><span style=\"color: #00af00; text-decoration-color: #00af00\">16,072,036</span> (61.31 MB)\n",
       "</pre>\n"
      ],
      "text/plain": [
       "\u001b[1m Total params: \u001b[0m\u001b[38;5;34m16,072,036\u001b[0m (61.31 MB)\n"
      ]
     },
     "metadata": {},
     "output_type": "display_data"
    },
    {
     "data": {
      "text/html": [
       "<pre style=\"white-space:pre;overflow-x:auto;line-height:normal;font-family:Menlo,'DejaVu Sans Mono',consolas,'Courier New',monospace\"><span style=\"font-weight: bold\"> Trainable params: </span><span style=\"color: #00af00; text-decoration-color: #00af00\">16,072,036</span> (61.31 MB)\n",
       "</pre>\n"
      ],
      "text/plain": [
       "\u001b[1m Trainable params: \u001b[0m\u001b[38;5;34m16,072,036\u001b[0m (61.31 MB)\n"
      ]
     },
     "metadata": {},
     "output_type": "display_data"
    },
    {
     "data": {
      "text/html": [
       "<pre style=\"white-space:pre;overflow-x:auto;line-height:normal;font-family:Menlo,'DejaVu Sans Mono',consolas,'Courier New',monospace\"><span style=\"font-weight: bold\"> Non-trainable params: </span><span style=\"color: #00af00; text-decoration-color: #00af00\">0</span> (0.00 B)\n",
       "</pre>\n"
      ],
      "text/plain": [
       "\u001b[1m Non-trainable params: \u001b[0m\u001b[38;5;34m0\u001b[0m (0.00 B)\n"
      ]
     },
     "metadata": {},
     "output_type": "display_data"
    }
   ],
   "source": [
    "model.summary()"
   ]
  },
  {
   "cell_type": "code",
   "execution_count": 24,
   "id": "c42e0779",
   "metadata": {
    "execution": {
     "iopub.execute_input": "2024-05-19T22:34:50.254367Z",
     "iopub.status.busy": "2024-05-19T22:34:50.254069Z",
     "iopub.status.idle": "2024-05-19T22:34:50.303701Z",
     "shell.execute_reply": "2024-05-19T22:34:50.302842Z"
    },
    "papermill": {
     "duration": 0.070302,
     "end_time": "2024-05-19T22:34:50.305862",
     "exception": false,
     "start_time": "2024-05-19T22:34:50.235560",
     "status": "completed"
    },
    "tags": []
   },
   "outputs": [],
   "source": [
    "# Create the dataset\n",
    "train_dataset = tf.data.Dataset.from_generator(\n",
    "    data_generator(captions_dict, image_features, tokenizer, max_length),\n",
    "    output_signature=(\n",
    "        (\n",
    "            tf.TensorSpec(shape=(None, 2048), dtype=tf.float32),\n",
    "            tf.TensorSpec(shape=(None, max_length), dtype=tf.int32)\n",
    "        ),\n",
    "        tf.TensorSpec(shape=(None,), dtype=tf.int32)\n",
    "    )\n",
    ")"
   ]
  },
  {
   "cell_type": "code",
   "execution_count": 25,
   "id": "e93238a7",
   "metadata": {
    "execution": {
     "iopub.execute_input": "2024-05-19T22:34:50.341754Z",
     "iopub.status.busy": "2024-05-19T22:34:50.341478Z",
     "iopub.status.idle": "2024-05-19T22:34:50.346002Z",
     "shell.execute_reply": "2024-05-19T22:34:50.345152Z"
    },
    "papermill": {
     "duration": 0.024554,
     "end_time": "2024-05-19T22:34:50.347959",
     "exception": false,
     "start_time": "2024-05-19T22:34:50.323405",
     "status": "completed"
    },
    "tags": []
   },
   "outputs": [],
   "source": [
    "#from tensorflow.keras.callbacks import LearningRateScheduler, EarlyStopping, Callback\n",
    "\n",
    "# Learning Rate Scheduler\n",
    "#def lr_scheduler(epoch, lr):\n",
    "#    if epoch < 5:\n",
    "#        return lr\n",
    "#    else:\n",
    "#        return lr * tf.math.exp(-0.1)\n",
    "\n",
    "# Custom Callback to Store Training Values\n",
    "#class TrainingHistory(Callback):\n",
    "#    def __init__(self):\n",
    "#        self.history = {'loss': [], 'accuracy': [], 'precision': [], 'recall': []}\n",
    "    \n",
    "#    def on_epoch_end(self, epoch, logs=None):\n",
    "#        for key, value in logs.items():\n",
    "#            if key in self.history:\n",
    "#                self.history[key].append(value)\n",
    "\n",
    "# Define callbacks\n",
    "#lr_scheduler_callback = LearningRateScheduler(lr_scheduler)\n",
    "#early_stopping_callback = EarlyStopping(patience=3, restore_best_weights=True)\n",
    "#training_history_callback = TrainingHistory()"
   ]
  },
  {
   "cell_type": "code",
   "execution_count": 26,
   "id": "d35b093d",
   "metadata": {
    "execution": {
     "iopub.execute_input": "2024-05-19T22:34:50.383218Z",
     "iopub.status.busy": "2024-05-19T22:34:50.382899Z",
     "iopub.status.idle": "2024-05-19T22:34:50.483639Z",
     "shell.execute_reply": "2024-05-19T22:34:50.482641Z"
    },
    "papermill": {
     "duration": 0.120968,
     "end_time": "2024-05-19T22:34:50.486050",
     "exception": false,
     "start_time": "2024-05-19T22:34:50.365082",
     "status": "completed"
    },
    "tags": []
   },
   "outputs": [
    {
     "name": "stdout",
     "output_type": "stream",
     "text": [
      "Features shape: (565, 2048)\n",
      "Captions shape: (565,)\n"
     ]
    }
   ],
   "source": [
    "# Verify data shapes\n",
    "for features, captions in train_dataset.take(1):\n",
    "    print(\"Features shape:\", features[0].shape)\n",
    "    print(\"Captions shape:\", captions.shape)"
   ]
  },
  {
   "cell_type": "markdown",
   "id": "6e394db0",
   "metadata": {
    "papermill": {
     "duration": 0.017374,
     "end_time": "2024-05-19T22:34:50.521475",
     "exception": false,
     "start_time": "2024-05-19T22:34:50.504101",
     "status": "completed"
    },
    "tags": []
   },
   "source": [
    "<div style=\"color:#FF5733; background-color:#F7DC6F; padding: 20px; border-radius: 15px; font-size: 200%; font-family: 'Segoe UI', Tahoma, Geneva, Verdana, sans-serif; text-align:center; text-shadow: 2px 2px 4px rgba(0, 0, 0, 0.7);\"> 🧬MODEL-1 TRAINING🧬 </div>"
   ]
  },
  {
   "cell_type": "code",
   "execution_count": 27,
   "id": "d9cb4237",
   "metadata": {
    "execution": {
     "iopub.execute_input": "2024-05-19T22:34:50.558337Z",
     "iopub.status.busy": "2024-05-19T22:34:50.557999Z",
     "iopub.status.idle": "2024-05-20T00:17:49.536600Z",
     "shell.execute_reply": "2024-05-20T00:17:49.535606Z"
    },
    "papermill": {
     "duration": 6180.791305,
     "end_time": "2024-05-20T00:17:51.330412",
     "exception": false,
     "start_time": "2024-05-19T22:34:50.539107",
     "status": "completed"
    },
    "tags": []
   },
   "outputs": [
    {
     "name": "stdout",
     "output_type": "stream",
     "text": [
      "Epoch 1/50\n",
      "\u001b[1m985/985\u001b[0m \u001b[32m━━━━━━━━━━━━━━━━━━━━\u001b[0m\u001b[37m\u001b[0m \u001b[1m121s\u001b[0m 118ms/step - loss: 6.6530\n",
      "Epoch 2/50\n"
     ]
    },
    {
     "name": "stderr",
     "output_type": "stream",
     "text": [
      "/opt/conda/lib/python3.10/contextlib.py:153: UserWarning: Your input ran out of data; interrupting training. Make sure that your dataset or generator can generate at least `steps_per_epoch * epochs` batches. You may need to use the `.repeat()` function when building your dataset.\n",
      "  self.gen.throw(typ, value, traceback)\n"
     ]
    },
    {
     "name": "stdout",
     "output_type": "stream",
     "text": [
      "\u001b[1m985/985\u001b[0m \u001b[32m━━━━━━━━━━━━━━━━━━━━\u001b[0m\u001b[37m\u001b[0m \u001b[1m121s\u001b[0m 122ms/step - loss: 5.6553\n",
      "Epoch 3/50\n",
      "\u001b[1m985/985\u001b[0m \u001b[32m━━━━━━━━━━━━━━━━━━━━\u001b[0m\u001b[37m\u001b[0m \u001b[1m122s\u001b[0m 124ms/step - loss: 5.3772\n",
      "Epoch 4/50\n",
      "\u001b[1m985/985\u001b[0m \u001b[32m━━━━━━━━━━━━━━━━━━━━\u001b[0m\u001b[37m\u001b[0m \u001b[1m123s\u001b[0m 124ms/step - loss: 5.1774\n",
      "Epoch 5/50\n",
      "\u001b[1m985/985\u001b[0m \u001b[32m━━━━━━━━━━━━━━━━━━━━\u001b[0m\u001b[37m\u001b[0m \u001b[1m123s\u001b[0m 124ms/step - loss: 5.0167\n",
      "Epoch 6/50\n",
      "\u001b[1m985/985\u001b[0m \u001b[32m━━━━━━━━━━━━━━━━━━━━\u001b[0m\u001b[37m\u001b[0m \u001b[1m123s\u001b[0m 124ms/step - loss: 4.8910\n",
      "Epoch 7/50\n",
      "\u001b[1m985/985\u001b[0m \u001b[32m━━━━━━━━━━━━━━━━━━━━\u001b[0m\u001b[37m\u001b[0m \u001b[1m123s\u001b[0m 124ms/step - loss: 4.7466\n",
      "Epoch 8/50\n",
      "\u001b[1m985/985\u001b[0m \u001b[32m━━━━━━━━━━━━━━━━━━━━\u001b[0m\u001b[37m\u001b[0m \u001b[1m123s\u001b[0m 124ms/step - loss: 4.6954\n",
      "Epoch 9/50\n",
      "\u001b[1m985/985\u001b[0m \u001b[32m━━━━━━━━━━━━━━━━━━━━\u001b[0m\u001b[37m\u001b[0m \u001b[1m123s\u001b[0m 125ms/step - loss: 4.5845\n",
      "Epoch 10/50\n",
      "\u001b[1m985/985\u001b[0m \u001b[32m━━━━━━━━━━━━━━━━━━━━\u001b[0m\u001b[37m\u001b[0m \u001b[1m123s\u001b[0m 125ms/step - loss: 4.4946\n",
      "Epoch 11/50\n",
      "\u001b[1m985/985\u001b[0m \u001b[32m━━━━━━━━━━━━━━━━━━━━\u001b[0m\u001b[37m\u001b[0m \u001b[1m123s\u001b[0m 125ms/step - loss: 4.4498\n",
      "Epoch 12/50\n",
      "\u001b[1m985/985\u001b[0m \u001b[32m━━━━━━━━━━━━━━━━━━━━\u001b[0m\u001b[37m\u001b[0m \u001b[1m123s\u001b[0m 125ms/step - loss: 4.3326\n",
      "Epoch 13/50\n",
      "\u001b[1m985/985\u001b[0m \u001b[32m━━━━━━━━━━━━━━━━━━━━\u001b[0m\u001b[37m\u001b[0m \u001b[1m123s\u001b[0m 125ms/step - loss: 4.2279\n",
      "Epoch 14/50\n",
      "\u001b[1m985/985\u001b[0m \u001b[32m━━━━━━━━━━━━━━━━━━━━\u001b[0m\u001b[37m\u001b[0m \u001b[1m123s\u001b[0m 125ms/step - loss: 4.1344\n",
      "Epoch 15/50\n",
      "\u001b[1m985/985\u001b[0m \u001b[32m━━━━━━━━━━━━━━━━━━━━\u001b[0m\u001b[37m\u001b[0m \u001b[1m123s\u001b[0m 125ms/step - loss: 4.0590\n",
      "Epoch 16/50\n",
      "\u001b[1m985/985\u001b[0m \u001b[32m━━━━━━━━━━━━━━━━━━━━\u001b[0m\u001b[37m\u001b[0m \u001b[1m123s\u001b[0m 125ms/step - loss: 3.9951\n",
      "Epoch 17/50\n",
      "\u001b[1m985/985\u001b[0m \u001b[32m━━━━━━━━━━━━━━━━━━━━\u001b[0m\u001b[37m\u001b[0m \u001b[1m122s\u001b[0m 124ms/step - loss: 3.9120\n",
      "Epoch 18/50\n",
      "\u001b[1m985/985\u001b[0m \u001b[32m━━━━━━━━━━━━━━━━━━━━\u001b[0m\u001b[37m\u001b[0m \u001b[1m123s\u001b[0m 125ms/step - loss: 3.8427\n",
      "Epoch 19/50\n",
      "\u001b[1m985/985\u001b[0m \u001b[32m━━━━━━━━━━━━━━━━━━━━\u001b[0m\u001b[37m\u001b[0m \u001b[1m123s\u001b[0m 125ms/step - loss: 3.7675\n",
      "Epoch 20/50\n",
      "\u001b[1m985/985\u001b[0m \u001b[32m━━━━━━━━━━━━━━━━━━━━\u001b[0m\u001b[37m\u001b[0m \u001b[1m123s\u001b[0m 125ms/step - loss: 3.6920\n",
      "Epoch 21/50\n",
      "\u001b[1m985/985\u001b[0m \u001b[32m━━━━━━━━━━━━━━━━━━━━\u001b[0m\u001b[37m\u001b[0m \u001b[1m123s\u001b[0m 125ms/step - loss: 3.6482\n",
      "Epoch 22/50\n",
      "\u001b[1m985/985\u001b[0m \u001b[32m━━━━━━━━━━━━━━━━━━━━\u001b[0m\u001b[37m\u001b[0m \u001b[1m123s\u001b[0m 125ms/step - loss: 3.6074\n",
      "Epoch 23/50\n",
      "\u001b[1m985/985\u001b[0m \u001b[32m━━━━━━━━━━━━━━━━━━━━\u001b[0m\u001b[37m\u001b[0m \u001b[1m123s\u001b[0m 125ms/step - loss: 3.5391\n",
      "Epoch 24/50\n",
      "\u001b[1m985/985\u001b[0m \u001b[32m━━━━━━━━━━━━━━━━━━━━\u001b[0m\u001b[37m\u001b[0m \u001b[1m123s\u001b[0m 125ms/step - loss: 3.4851\n",
      "Epoch 25/50\n",
      "\u001b[1m985/985\u001b[0m \u001b[32m━━━━━━━━━━━━━━━━━━━━\u001b[0m\u001b[37m\u001b[0m \u001b[1m124s\u001b[0m 125ms/step - loss: 3.4478\n",
      "Epoch 26/50\n",
      "\u001b[1m985/985\u001b[0m \u001b[32m━━━━━━━━━━━━━━━━━━━━\u001b[0m\u001b[37m\u001b[0m \u001b[1m124s\u001b[0m 125ms/step - loss: 3.3662\n",
      "Epoch 27/50\n",
      "\u001b[1m985/985\u001b[0m \u001b[32m━━━━━━━━━━━━━━━━━━━━\u001b[0m\u001b[37m\u001b[0m \u001b[1m124s\u001b[0m 125ms/step - loss: 3.3106\n",
      "Epoch 28/50\n",
      "\u001b[1m985/985\u001b[0m \u001b[32m━━━━━━━━━━━━━━━━━━━━\u001b[0m\u001b[37m\u001b[0m \u001b[1m123s\u001b[0m 125ms/step - loss: 3.2506\n",
      "Epoch 29/50\n",
      "\u001b[1m985/985\u001b[0m \u001b[32m━━━━━━━━━━━━━━━━━━━━\u001b[0m\u001b[37m\u001b[0m \u001b[1m123s\u001b[0m 125ms/step - loss: 3.2690\n",
      "Epoch 30/50\n",
      "\u001b[1m985/985\u001b[0m \u001b[32m━━━━━━━━━━━━━━━━━━━━\u001b[0m\u001b[37m\u001b[0m \u001b[1m123s\u001b[0m 125ms/step - loss: 3.3183\n",
      "Epoch 31/50\n",
      "\u001b[1m985/985\u001b[0m \u001b[32m━━━━━━━━━━━━━━━━━━━━\u001b[0m\u001b[37m\u001b[0m \u001b[1m123s\u001b[0m 125ms/step - loss: 3.2038\n",
      "Epoch 32/50\n",
      "\u001b[1m985/985\u001b[0m \u001b[32m━━━━━━━━━━━━━━━━━━━━\u001b[0m\u001b[37m\u001b[0m \u001b[1m141s\u001b[0m 124ms/step - loss: 3.1183\n",
      "Epoch 33/50\n",
      "\u001b[1m985/985\u001b[0m \u001b[32m━━━━━━━━━━━━━━━━━━━━\u001b[0m\u001b[37m\u001b[0m \u001b[1m123s\u001b[0m 125ms/step - loss: 3.0436\n",
      "Epoch 34/50\n",
      "\u001b[1m985/985\u001b[0m \u001b[32m━━━━━━━━━━━━━━━━━━━━\u001b[0m\u001b[37m\u001b[0m \u001b[1m122s\u001b[0m 124ms/step - loss: 3.0017\n",
      "Epoch 35/50\n",
      "\u001b[1m985/985\u001b[0m \u001b[32m━━━━━━━━━━━━━━━━━━━━\u001b[0m\u001b[37m\u001b[0m \u001b[1m123s\u001b[0m 125ms/step - loss: 2.9951\n",
      "Epoch 36/50\n",
      "\u001b[1m985/985\u001b[0m \u001b[32m━━━━━━━━━━━━━━━━━━━━\u001b[0m\u001b[37m\u001b[0m \u001b[1m123s\u001b[0m 125ms/step - loss: 2.9065\n",
      "Epoch 37/50\n",
      "\u001b[1m985/985\u001b[0m \u001b[32m━━━━━━━━━━━━━━━━━━━━\u001b[0m\u001b[37m\u001b[0m \u001b[1m123s\u001b[0m 125ms/step - loss: 2.8388\n",
      "Epoch 38/50\n",
      "\u001b[1m985/985\u001b[0m \u001b[32m━━━━━━━━━━━━━━━━━━━━\u001b[0m\u001b[37m\u001b[0m \u001b[1m124s\u001b[0m 126ms/step - loss: 2.7742\n",
      "Epoch 39/50\n",
      "\u001b[1m985/985\u001b[0m \u001b[32m━━━━━━━━━━━━━━━━━━━━\u001b[0m\u001b[37m\u001b[0m \u001b[1m124s\u001b[0m 126ms/step - loss: 2.7870\n",
      "Epoch 40/50\n",
      "\u001b[1m985/985\u001b[0m \u001b[32m━━━━━━━━━━━━━━━━━━━━\u001b[0m\u001b[37m\u001b[0m \u001b[1m124s\u001b[0m 126ms/step - loss: 2.7951\n",
      "Epoch 41/50\n",
      "\u001b[1m985/985\u001b[0m \u001b[32m━━━━━━━━━━━━━━━━━━━━\u001b[0m\u001b[37m\u001b[0m \u001b[1m124s\u001b[0m 126ms/step - loss: 2.7195\n",
      "Epoch 42/50\n",
      "\u001b[1m985/985\u001b[0m \u001b[32m━━━━━━━━━━━━━━━━━━━━\u001b[0m\u001b[37m\u001b[0m \u001b[1m124s\u001b[0m 126ms/step - loss: 2.6492\n",
      "Epoch 43/50\n",
      "\u001b[1m985/985\u001b[0m \u001b[32m━━━━━━━━━━━━━━━━━━━━\u001b[0m\u001b[37m\u001b[0m \u001b[1m125s\u001b[0m 126ms/step - loss: 2.6021\n",
      "Epoch 44/50\n",
      "\u001b[1m985/985\u001b[0m \u001b[32m━━━━━━━━━━━━━━━━━━━━\u001b[0m\u001b[37m\u001b[0m \u001b[1m125s\u001b[0m 126ms/step - loss: 2.5648\n",
      "Epoch 45/50\n",
      "\u001b[1m985/985\u001b[0m \u001b[32m━━━━━━━━━━━━━━━━━━━━\u001b[0m\u001b[37m\u001b[0m \u001b[1m124s\u001b[0m 126ms/step - loss: 2.5311\n",
      "Epoch 46/50\n",
      "\u001b[1m985/985\u001b[0m \u001b[32m━━━━━━━━━━━━━━━━━━━━\u001b[0m\u001b[37m\u001b[0m \u001b[1m124s\u001b[0m 125ms/step - loss: 2.6518\n",
      "Epoch 47/50\n",
      "\u001b[1m985/985\u001b[0m \u001b[32m━━━━━━━━━━━━━━━━━━━━\u001b[0m\u001b[37m\u001b[0m \u001b[1m124s\u001b[0m 125ms/step - loss: 2.5860\n",
      "Epoch 48/50\n",
      "\u001b[1m985/985\u001b[0m \u001b[32m━━━━━━━━━━━━━━━━━━━━\u001b[0m\u001b[37m\u001b[0m \u001b[1m124s\u001b[0m 125ms/step - loss: 2.7086\n",
      "Epoch 49/50\n",
      "\u001b[1m985/985\u001b[0m \u001b[32m━━━━━━━━━━━━━━━━━━━━\u001b[0m\u001b[37m\u001b[0m \u001b[1m124s\u001b[0m 125ms/step - loss: 2.5565\n",
      "Epoch 50/50\n",
      "\u001b[1m985/985\u001b[0m \u001b[32m━━━━━━━━━━━━━━━━━━━━\u001b[0m\u001b[37m\u001b[0m \u001b[1m123s\u001b[0m 125ms/step - loss: 2.4637\n"
     ]
    }
   ],
   "source": [
    "history = model.fit(train_dataset, epochs=50, verbose=1)"
   ]
  },
  {
   "cell_type": "code",
   "execution_count": 28,
   "id": "f7ea61c0",
   "metadata": {
    "execution": {
     "iopub.execute_input": "2024-05-20T00:17:59.796587Z",
     "iopub.status.busy": "2024-05-20T00:17:59.795947Z",
     "iopub.status.idle": "2024-05-20T00:18:00.190014Z",
     "shell.execute_reply": "2024-05-20T00:18:00.189013Z"
    },
    "papermill": {
     "duration": 4.688922,
     "end_time": "2024-05-20T00:18:00.192630",
     "exception": false,
     "start_time": "2024-05-20T00:17:55.503708",
     "status": "completed"
    },
    "tags": []
   },
   "outputs": [],
   "source": [
    "# Save the model\n",
    "model.save(\"/kaggle/working/image-captioning.h5\")"
   ]
  },
  {
   "cell_type": "markdown",
   "id": "97776aba",
   "metadata": {
    "papermill": {
     "duration": 4.348806,
     "end_time": "2024-05-20T00:18:08.837039",
     "exception": false,
     "start_time": "2024-05-20T00:18:04.488233",
     "status": "completed"
    },
    "tags": []
   },
   "source": [
    "<div style=\"color:#FF5733; background-color:#F7DC6F; padding: 20px; border-radius: 15px; font-size: 200%; font-family: 'Segoe UI', Tahoma, Geneva, Verdana, sans-serif; text-align:center; text-shadow: 2px 2px 4px rgba(0, 0, 0, 0.7);\"> 🔍MODEL EVALUATION🔍</div>"
   ]
  },
  {
   "cell_type": "code",
   "execution_count": 29,
   "id": "05df9efe",
   "metadata": {
    "execution": {
     "iopub.execute_input": "2024-05-20T00:18:17.181309Z",
     "iopub.status.busy": "2024-05-20T00:18:17.180550Z",
     "iopub.status.idle": "2024-05-20T00:18:17.620936Z",
     "shell.execute_reply": "2024-05-20T00:18:17.619942Z"
    },
    "papermill": {
     "duration": 4.630101,
     "end_time": "2024-05-20T00:18:17.623290",
     "exception": false,
     "start_time": "2024-05-20T00:18:12.993189",
     "status": "completed"
    },
    "tags": []
   },
   "outputs": [],
   "source": [
    "image_dir = '/kaggle/input/instagram-images-with-captions/instagram_data/img'\n",
    "\n",
    "# Retrieve image paths from the directory\n",
    "image_paths = [os.path.join(image_dir, filename) for filename in os.listdir(image_dir)]"
   ]
  },
  {
   "cell_type": "code",
   "execution_count": 30,
   "id": "bf7498de",
   "metadata": {
    "execution": {
     "iopub.execute_input": "2024-05-20T00:18:26.190481Z",
     "iopub.status.busy": "2024-05-20T00:18:26.189749Z",
     "iopub.status.idle": "2024-05-20T00:18:26.194278Z",
     "shell.execute_reply": "2024-05-20T00:18:26.193444Z"
    },
    "papermill": {
     "duration": 4.206053,
     "end_time": "2024-05-20T00:18:26.196239",
     "exception": false,
     "start_time": "2024-05-20T00:18:21.990186",
     "status": "completed"
    },
    "tags": []
   },
   "outputs": [],
   "source": [
    "captions = [\n",
    "    \"nan\",\n",
    "    \"bye\",\n",
    "    \"Ok, a few more... sorry I just had so much fun that day\",\n",
    "    \"This was one of my favorite shoots I’ve ever done! Thank you -a seriously badass woman, for shooting my cover! And thank you to everyone who asked a question for the interview 🤍\",\n",
    "    \"Wrapped round my finger like a ring\"\n",
    "]"
   ]
  },
  {
   "cell_type": "code",
   "execution_count": 31,
   "id": "f157639c",
   "metadata": {
    "execution": {
     "iopub.execute_input": "2024-05-20T00:18:34.960802Z",
     "iopub.status.busy": "2024-05-20T00:18:34.959943Z",
     "iopub.status.idle": "2024-05-20T00:18:44.473815Z",
     "shell.execute_reply": "2024-05-20T00:18:44.473011Z"
    },
    "papermill": {
     "duration": 13.912731,
     "end_time": "2024-05-20T00:18:44.476117",
     "exception": false,
     "start_time": "2024-05-20T00:18:30.563386",
     "status": "completed"
    },
    "tags": []
   },
   "outputs": [
    {
     "name": "stdout",
     "output_type": "stream",
     "text": [
      "\u001b[1m9/9\u001b[0m \u001b[32m━━━━━━━━━━━━━━━━━━━━\u001b[0m\u001b[37m\u001b[0m \u001b[1m0s\u001b[0m 34ms/step\n",
      "\u001b[1m9/9\u001b[0m \u001b[32m━━━━━━━━━━━━━━━━━━━━\u001b[0m\u001b[37m\u001b[0m \u001b[1m0s\u001b[0m 13ms/step\n",
      "\u001b[1m6/6\u001b[0m \u001b[32m━━━━━━━━━━━━━━━━━━━━\u001b[0m\u001b[37m\u001b[0m \u001b[1m0s\u001b[0m 10ms/step\n",
      "\u001b[1m9/9\u001b[0m \u001b[32m━━━━━━━━━━━━━━━━━━━━\u001b[0m\u001b[37m\u001b[0m \u001b[1m0s\u001b[0m 10ms/step\n",
      "\u001b[1m5/5\u001b[0m \u001b[32m━━━━━━━━━━━━━━━━━━━━\u001b[0m\u001b[37m\u001b[0m \u001b[1m0s\u001b[0m 21ms/step\n",
      "\u001b[1m9/9\u001b[0m \u001b[32m━━━━━━━━━━━━━━━━━━━━\u001b[0m\u001b[37m\u001b[0m \u001b[1m0s\u001b[0m 9ms/step\n",
      "\u001b[1m8/8\u001b[0m \u001b[32m━━━━━━━━━━━━━━━━━━━━\u001b[0m\u001b[37m\u001b[0m \u001b[1m0s\u001b[0m 9ms/step\n",
      "\u001b[1m7/7\u001b[0m \u001b[32m━━━━━━━━━━━━━━━━━━━━\u001b[0m\u001b[37m\u001b[0m \u001b[1m0s\u001b[0m 9ms/step\n",
      "\u001b[1m8/8\u001b[0m \u001b[32m━━━━━━━━━━━━━━━━━━━━\u001b[0m\u001b[37m\u001b[0m \u001b[1m0s\u001b[0m 9ms/step\n",
      "\u001b[1m10/10\u001b[0m \u001b[32m━━━━━━━━━━━━━━━━━━━━\u001b[0m\u001b[37m\u001b[0m \u001b[1m0s\u001b[0m 9ms/step\n"
     ]
    }
   ],
   "source": [
    "import random\n",
    "import pandas as pd\n",
    "from nltk.translate.bleu_score import sentence_bleu, SmoothingFunction\n",
    "\n",
    "# Define the number of samples you want to take\n",
    "num_samples = 10\n",
    "\n",
    "# Take a sample of 10 random elements from the dataset\n",
    "sample_dataset = train_dataset.shuffle(buffer_size=1000).take(num_samples)\n",
    "\n",
    "# Create lists to store predictions and actual captions\n",
    "predictions = []\n",
    "actual_captions = []\n",
    "\n",
    "# Iterate over the sample_dataset and make predictions\n",
    "for batch in sample_dataset:\n",
    "    image_features, input_sequence = batch[0]\n",
    "    prediction = model.predict([image_features, input_sequence])\n",
    "    predictions.append(prediction)\n",
    "\n",
    "    # Get the actual caption\n",
    "    actual_caption_sequence = batch[1].numpy().squeeze().tolist()\n",
    "    actual_caption = tokenizer.sequences_to_texts([actual_caption_sequence])[0]\n",
    "    actual_captions.append(actual_caption)\n",
    "\n",
    "# Calculate BLEU score for each prediction\n",
    "bleu_scores = []\n",
    "predicted_captions = []\n",
    "smoothie = SmoothingFunction().method4\n",
    "\n",
    "for prediction, actual_caption in zip(predictions, actual_captions):\n",
    "    # Check the dimensions of the prediction and apply argmax accordingly\n",
    "    if prediction.ndim == 3:\n",
    "        predicted_indices = prediction.argmax(axis=2).squeeze().tolist()\n",
    "    elif prediction.ndim == 2:\n",
    "        predicted_indices = prediction.argmax(axis=1).tolist()\n",
    "    else:\n",
    "        raise ValueError(\"Unexpected prediction shape: {}\".format(prediction.shape))\n",
    "    \n",
    "    # Convert predicted caption to text\n",
    "    predicted_caption = tokenizer.sequences_to_texts([predicted_indices])[0]\n",
    "    predicted_captions.append(predicted_caption)\n",
    "    \n",
    "    # Calculate BLEU score with smoothing\n",
    "    bleu_score = sentence_bleu([actual_caption.split()], predicted_caption.split(), smoothing_function=smoothie)\n",
    "    bleu_scores.append(bleu_score)"
   ]
  },
  {
   "cell_type": "markdown",
   "id": "1b078089",
   "metadata": {
    "papermill": {
     "duration": 4.140979,
     "end_time": "2024-05-20T00:18:52.815088",
     "exception": false,
     "start_time": "2024-05-20T00:18:48.674109",
     "status": "completed"
    },
    "tags": []
   },
   "source": [
    "<div style=\"color:#FF5733; background-color:#F7DC6F; padding: 20px; border-radius: 15px; font-size: 200%; font-family: 'Segoe UI', Tahoma, Geneva, Verdana, sans-serif; text-align:center; text-shadow: 2px 2px 4px rgba(0, 0, 0, 0.7);\">PREDICTION DATAFRAME WITH BLUE-SCORE</div>"
   ]
  },
  {
   "cell_type": "code",
   "execution_count": 32,
   "id": "6a66c7c1",
   "metadata": {
    "execution": {
     "iopub.execute_input": "2024-05-20T00:19:01.210317Z",
     "iopub.status.busy": "2024-05-20T00:19:01.209952Z",
     "iopub.status.idle": "2024-05-20T00:19:01.222909Z",
     "shell.execute_reply": "2024-05-20T00:19:01.222061Z"
    },
    "papermill": {
     "duration": 4.170415,
     "end_time": "2024-05-20T00:19:01.225059",
     "exception": false,
     "start_time": "2024-05-20T00:18:57.054644",
     "status": "completed"
    },
    "tags": []
   },
   "outputs": [
    {
     "data": {
      "text/html": [
       "<style type=\"text/css\">\n",
       "#T_db032_row0_col0, #T_db032_row0_col1, #T_db032_row0_col2, #T_db032_row1_col0, #T_db032_row1_col1, #T_db032_row1_col2, #T_db032_row2_col0, #T_db032_row2_col1, #T_db032_row2_col2, #T_db032_row3_col0, #T_db032_row3_col1, #T_db032_row3_col2, #T_db032_row4_col0, #T_db032_row4_col1, #T_db032_row4_col2, #T_db032_row5_col0, #T_db032_row5_col1, #T_db032_row5_col2, #T_db032_row6_col0, #T_db032_row6_col1, #T_db032_row6_col2, #T_db032_row7_col0, #T_db032_row7_col1, #T_db032_row7_col2, #T_db032_row8_col0, #T_db032_row8_col1, #T_db032_row8_col2, #T_db032_row9_col0, #T_db032_row9_col1, #T_db032_row9_col2 {\n",
       "  background-color: #f9f9f9;\n",
       "  color: #4CAF50;\n",
       "  font-weight: bold;\n",
       "}\n",
       "</style>\n",
       "<table id=\"T_db032\">\n",
       "  <thead>\n",
       "    <tr>\n",
       "      <th class=\"blank level0\" >&nbsp;</th>\n",
       "      <th id=\"T_db032_level0_col0\" class=\"col_heading level0 col0\" >Actual Caption</th>\n",
       "      <th id=\"T_db032_level0_col1\" class=\"col_heading level0 col1\" >Predicted Caption</th>\n",
       "      <th id=\"T_db032_level0_col2\" class=\"col_heading level0 col2\" >BLEU Score</th>\n",
       "    </tr>\n",
       "  </thead>\n",
       "  <tbody>\n",
       "    <tr>\n",
       "      <th id=\"T_db032_level0_row0\" class=\"row_heading level0 row0\" >0</th>\n",
       "      <td id=\"T_db032_row0_col0\" class=\"data row0 col0\" >duran shoot 2009 duran shoot 2009 duran shoot 2009 last night look what sent north thank you for these little custom jackets to match mommy be the hottest mom in the entire world birthday to my best friend in the entire world after becoming a mom myself i understand you in a way i didn't think was possible i respect so much how you are able to raise 6 children have a career and give each of us so much attention and be our biggest <unk> and love us so <unk> you are my idol my <unk> and <unk> i love you forever voted have you last night morning walk 🐴 💚 the sweetest girl in the world happy birthday i love you so much on the inside lol at lacma art film gala wearing a <unk> et <unk> dress tom ford heels cartier necklace grace anna <unk> <unk> <unk> little <unk> is waiting to show daddy her costume halloween has started early this morning <unk> is on the loose meow 2010 2012 halloween 2012 look wolford top i cut to crop it wolford dress i'm wearing as a skirt margiela dress i'm wearing open as a jacket prada heels i bought on ebay hermes purse saint laurent sunglasses lunch of our shoot by hair kevin ryan make up mario <unk> styled by <unk> <unk> 2014 launches today at lipsy really obsessed with waist training thank you for my new waist <unk> birthday bruce you are officially a senior <unk> lol thank you for teaching me so much about life i love you so much xoxo at <unk> code mobile <unk> conference in san fran with</td>\n",
       "      <td id=\"T_db032_row0_col1\" class=\"data row0 col1\" >sista shoot 😘 sista shoot 😘 sista shoot 😘 last night my last i me thank you so this shoes <unk> dresses and match my <unk> like <unk> mom ever the <unk> <unk> b ciarrap my homie friend in the <unk> world <unk> he a <unk> like and love <unk> and this <unk> smile love want it a to love their much and <unk> can’t <unk> to <unk> you <unk> have a career and give it other others as i thank and miss better <unk> <unk> and <unk> you as <unk> <unk> <unk> my <unk> <unk> <unk> and <unk> <unk> love you <unk> been to you last night morning <unk> the <unk> ride throne <unk> i the world <unk> birthday <unk> love u ❤️❤️ much through the ball <unk> on <unk> <unk> <unk> <unk> <unk> my vintage <unk> <unk> nikecourt and dry heels striveforgreatness <unk> <unk> life <unk> boo who bff tiny got back to describe o d my sisters <unk> arrived mountains way morning <unk> <unk> not <unk> way meow 2010 <unk> or <unk> kicks stella kicks <unk> miss my the it with <unk> and too my a <unk> promise dress <unk> <unk> <unk> for a few prada single don't promise them this hermes purse oh laurent sweater <unk> <unk> today's video stella <unk> <unk> <unk> <unk> up hair <unk> <unk> by <unk> <unk> time <unk> today in 3pm not getting 😍😍 this training on you <unk> getting lil video <unk> b ciarrap <unk> have officially <unk> <unk> <unk> on i you all all me so much love your hold love you <unk> much <unk> at the <unk> <unk> <unk> <unk> today a fran <unk></td>\n",
       "      <td id=\"T_db032_row0_col2\" class=\"data row0 col2\" >0.067063</td>\n",
       "    </tr>\n",
       "    <tr>\n",
       "      <th id=\"T_db032_level0_row1\" class=\"row_heading level0 row1\" >1</th>\n",
       "      <td id=\"T_db032_row1_col0\" class=\"data row1 col0\" >to <unk> bill <unk> and the whole <unk> team on the goldenglobes <unk> www <unk> com news lebron james <unk> <unk> <unk> <unk> striveforgreatness uninterrupted <unk> and ambition of big rings theland striveforgreatness do what u want when u poppin <unk> <unk> on <unk> <unk> striveforgreatness man deserves a queen mrs savannahrj <unk> friday the 13th <unk> <unk> night beautiful evening to be home relaxing last night <unk> from the <unk> tribe last night <unk> <unk> love this time of year treats coming friday the 13th <unk> <unk> king x <unk> <unk> striveforgreatness with his <unk> b the sneaky <unk> <unk> <unk> <unk> <unk> and proud of this <unk> <unk> from <unk> http news nike com news lemon <unk> lebron james <unk> <unk> <unk> striveforgreatness <unk> show me <unk> you've created striveforgreatness it done straight up <unk> realtristan13 future is now <unk> s o the homies future <unk> yes sir lil mama like football just like <unk> <unk> <unk> blessed that's all man <unk> <unk> striveforgreatness <unk> and i are <unk> up striveforgreatness <unk> blessed anniversary my queen mrs savannahrj <unk> <unk> a couple but not forgotten we on a mission theland striveforgreatness is served it's over for you two lol <unk> wit my <unk> <unk> morning yoga session today with <unk> we <unk> x lebron crazy striveforgreatness to go boys keep <unk> them <unk> up <unk> <unk> <unk> striveforgreatness men mavcarter ernieramos rometrav <unk> <unk> <unk> <unk> <unk> realtristan13 <unk> <unk> <unk> <unk> <unk> b <unk> <unk> klutch <unk> striveforgreatness <unk> up <unk> beatsbydre g day my brother pr again all love zero <unk> <unk> rwtw <unk> <unk> <unk> wit my <unk> ernieramos <unk></td>\n",
       "      <td id=\"T_db032_row1_col1\" class=\"data row1 col1\" >to venuswilliams bill and and the whole <unk> of <unk> the goldenglobes <unk> bit <unk> com striveforgreatness lebron james <unk> striveforgreatness striveforgreatness striveforgreatness striveforgreatness uninterrupted <unk> and ambition of best rings theland striveforgreatness know it u have my my poppin <unk> <unk> <unk> <unk> <unk> <unk> time deserves a queen mrs savannahrj <unk> b the 13th <unk> <unk> day at and gorgeous me home relaxing last night <unk> itsjustdifferent the <unk> tribe last night <unk> itsjustdifferent wear these kid right me treats coming friday the 13th <unk> <unk> <unk> x <unk> <unk> nikecourt <unk> the <unk> ernieramos day sneaky <unk> <unk> <unk> <unk> <unk> and proud of the <unk> <unk> <unk> <unk> <unk> <unk> nike com news lemon <unk> lebron james <unk> <unk> <unk> striveforgreatness <unk> <unk> out on you've created striveforgreatness rid done straight up striveforgreatness striveforgreatness <unk> of almost <unk> <unk> o <unk> homies future <unk> around sir who <unk> <unk> football <unk> like this lol <unk> blessed that's all day <unk> <unk> striveforgreatness james kickgamecray i ballin pink too for <unk> striveforgreatness b love day mrs savannahrj <unk> <unk> my couple hours not forgotten we on a mission theland striveforgreatness with served <unk> over right you guys <unk> <unk> kickgamecray my <unk> <unk> morning yoga session today <unk> the genuine can't <unk> lebron <unk> energy to get to keep <unk> <unk> <unk> trip and <unk> <unk> <unk> men mavcarter ernieramos rometrav <unk> <unk> <unk> <unk> <unk> <unk> <unk> theland <unk> b <unk> klutch <unk> <unk> klutch <unk> striveforgreatness <unk> up and beatsbydre b day to homie pr again <unk> love zero <unk> <unk> <unk> striveforgreatness striveforgreatness trip wit my woes ernieramos <unk></td>\n",
       "      <td id=\"T_db032_row1_col2\" class=\"data row1 col2\" >0.408627</td>\n",
       "    </tr>\n",
       "    <tr>\n",
       "      <th id=\"T_db032_level0_row2\" class=\"row_heading level0 row2\" >2</th>\n",
       "      <td id=\"T_db032_row2_col0\" class=\"data row2 col0\" >for the night <unk> itsjustdifferent bday again to my 8 year old young man bronny love u son 8th bday jr wow time is flying by savannahrb repost and fwalker03 son my nephew just tired that simple back to the crib <unk> <unk> ms <unk> savannahrb is driving by the way o <unk> j hahaha <unk> tennis ball blue <unk> galaxy <unk> itsjustdifferent <unk> for the day <unk> 2012 go they gone break some <unk> <unk> my boys for the day repost <unk> king james <unk> thing about media day today was getting <unk> for my ring yessir a trip thanks to mr <unk> staff <unk> my family just different see me get <unk> tbt repost a fresh cut from my <unk> rp aka don <unk> o to <unk> for the fire best <unk> in the nation nike is served promise lamar got dc rocking crazy goin in at <unk> <unk> trip <unk> on the field striveforgreatness work striveforgreatness to workout with <unk> <unk> <unk> the workout on the <unk> <unk> striveforgreatness b day to my homie ernieramos love u bro so beautiful and special <unk></td>\n",
       "      <td id=\"T_db032_row2_col1\" class=\"data row2 col1\" >for the night <unk> itsjustdifferent b <unk> to my homie year old young man bronny love u son b bday jr wow time is flying by savannahrb repost and my son <unk> nephew just tired that simple to with the crib <unk> <unk> ms <unk> savannahrb is driving by the <unk> o <unk> for hahaha <unk> <unk> ball blue <unk> galaxy <unk> itsjustdifferent <unk> for the night <unk> 2012 go i were break some <unk> <unk> my <unk> for the night <unk> <unk> king james <unk> lighting ever media day today was pretty <unk> in the ring yessir a background <unk> to mr <unk> staff <unk> my <unk> not different need me in the tbt repost ready fresh cut from the <unk> rp aka don <unk> o <unk> the for the fire best <unk> in the nation nike at served love <unk> got dc rocking crazy <unk> in at <unk> tonight trip <unk> <unk> <unk> field striveforgreatness work striveforgreatness to the with <unk> <unk> <unk> the workout on the <unk> <unk> striveforgreatness b day to my homie ernieramos love u bro a <unk> and that's <unk></td>\n",
       "      <td id=\"T_db032_row2_col2\" class=\"data row2 col2\" >0.539162</td>\n",
       "    </tr>\n",
       "    <tr>\n",
       "      <th id=\"T_db032_level0_row3\" class=\"row_heading level0 row3\" >3</th>\n",
       "      <td id=\"T_db032_row3_col0\" class=\"data row3 col0\" >wishes everyone a happy <unk> another exclusive picture from yesterday deepikapadukone with <unk> in delhi day another <unk> look from deepikapadukone for bajiraomastanipromotions in delhi <unk> deepikapadukone with spanish tennis legend <unk> in new delhi another one all the way from <unk> <unk> bajiraomastanipromotions <unk> is all set to <unk> the <unk> awards in <unk> bajiraomastanipromotions <unk> <unk> us with yet another <unk> look for bajiraomastanipromotions <unk> looks absolutely <unk> in a <unk> don't you <unk> <unk> bajiraomastanipromotions <unk> for us before heading for <unk> promotions today <unk> a look at the gorgeous mastani <unk> before leaving for <unk> promotions <unk> here's a sneak peek at <unk> look for <unk> promotions today <unk> a glimpse of the gorgeous deepikapadukone from the <unk> success <unk> another exclusive look of deepikapadukone for <unk> in delhi <unk> <unk> you exclusive images of deepikapadukone from delhi <unk> <unk> <unk> <unk> the casual chic look at the <unk> today is all set to <unk> the <unk> diwali party doesn't she look stunning wishes you all a very happy diwali deepikapadukone as mastani the brave and <unk> <unk> princess <unk> is all set for <unk> are you <unk> link in the bio at the <unk> <unk> event isn't she <unk> in this outfit an exclusive image of our mastani from today's <unk> mastani promotions in delhi the live love laugh foundation www <unk> org <unk> at the <unk> launch event in mumbai today <unk> wishes you all a very happy independence day special surprise coming up tune in tomorrow at <unk> to know more mastani <unk> success party <unk> magazine june 2015 <unk> cover magazine <unk> lux meet greet look ootd promotions on <unk> dance promotions</td>\n",
       "      <td id=\"T_db032_row3_col1\" class=\"data row3 col1\" >is and <unk> cool st a exclusive image to my i with the <unk> da day another slay <unk> how <unk> for the in the <unk> <unk> in spanish tennis skirt <unk> from sacramento <unk> a exclusive from got way from my <unk> in <unk> is good of for the and world <unk> tonight the <unk> <unk> is with tonight olympiaohanian dwyanewade pic love for the <unk> is good <unk> tonight the <unk> <unk> let know <unk> <unk> is with life folks the for <unk> tonight of <unk> a minute at what game savannahrb before fashionisconfidence i now 24 with of here's a sneak peek of hbo striveforgreatness for <unk> x <unk> <unk> a 2nd of my <unk> savannahrb lol the shoot <unk> of dior sneak image from the for the <unk> the <unk> thekidfromakron👑 out out images of me for our <unk> <unk> <unk> is with self chic look at <unk> <unk> <unk> is good of for the and world <unk> <unk> tonight fit was <unk> is and <unk> that great cool birthday allaboutyou bitch the the brave and <unk> in <unk> crazy is good of for <unk> tonight next tonight <unk> in bio bio is the <unk> gomillionandleupold camp tell trying got her toronto pic a exclusive image of the favorites of today's <unk> mastani <unk> at <unk> allaboutyou show on laugh foundation www <unk> com <unk> <unk> <unk> <unk> <unk> event this mumbai today <unk> <unk> all are <unk> few happy birthday day <unk> evening for this <unk> in tonight to <unk> instagram read the <unk> <unk> <unk> party <unk> <unk> on 2015 cover on <unk> <unk> hey promotions greet kicks stella promotions for tour to today</td>\n",
       "      <td id=\"T_db032_row3_col2\" class=\"data row3 col2\" >0.098946</td>\n",
       "    </tr>\n",
       "    <tr>\n",
       "      <th id=\"T_db032_level0_row4\" class=\"row_heading level0 row4\" >4</th>\n",
       "      <td id=\"T_db032_row4_col0\" class=\"data row4 col0\" >to <unk> <unk> to get some of the on life hills itunes thank you you stream on now fav shoe merch is everywhere thanks <unk> sandwich single out now new single was lit much as i doubt god he keeps <unk> me you brother man <unk> <unk> his sweet ol time u for coming out blessed you to <unk> now my new collection with grab your purpose tour gear single in 4 days guys boys and this is me <unk> kings with friends are the moments i live for you to everyone who is apart of the tour i am honored to share the stage with so many wonderful people and everyone calm down its my friend and i like the picture ur feet dirty guys my <unk> head off</td>\n",
       "      <td id=\"T_db032_row4_col1\" class=\"data row4 col1\" >to <unk> <unk> <unk> the some love my society set hills a <unk> you you <unk> on now york <unk> bff and preorder <unk> <unk> <unk> york <unk> now on <unk> iz real <unk> fun i ballin you is loves <unk> striveforgreatness my to man <unk> <unk> <unk> <unk> <unk> me you stella my out blessed my to <unk> <unk> i friends <unk> probably the the purpose tour is york <unk> toronto days <unk> <unk> <unk> ran is a <unk> kings with the chicks the people i love for you <unk> the who <unk> it of the <unk> and need so to share the stage with these many amazing yummy <unk> mforde11 i and <unk> just <unk> mark <unk> don't <unk> other rid feet lol <unk> <unk> <unk> is me</td>\n",
       "      <td id=\"T_db032_row4_col2\" class=\"data row4 col2\" >0.090789</td>\n",
       "    </tr>\n",
       "    <tr>\n",
       "      <th id=\"T_db032_level0_row5\" class=\"row_heading level0 row5\" >5</th>\n",
       "      <td id=\"T_db032_row5_col0\" class=\"data row5 col0\" ><unk> time <unk> <unk> <unk> <unk> nah <unk> <unk> <unk> ain't heavy we're brothers hobbs <unk> <unk> fbf fast 7 coming soon as lovely and fun in person <unk> <unk> <unk> off am cardio right <unk> <unk> <unk> <unk> <unk> <unk> letsroll birthday champ <unk> goat <unk> <unk> <unk> <unk> quote my <unk> <unk> <unk> <unk> <unk> onset hbo ballers <unk> it cool <unk> <unk> <unk> <unk> <unk> <unk> just wrote down my goals for 2015 <unk> <unk> <unk> <unk> <unk> <unk> up <unk> <unk> bell <unk> <unk> <unk> <unk> <unk> <unk> cool fan <unk> sent me this <unk> thuglife <unk> <unk> <unk> <unk> rock <unk> <unk> <unk> <unk> <unk> <unk> <unk> <unk> <unk> <unk> <unk> rock is in the house <unk> <unk> <unk> <unk> funny and f <unk> up <unk> <unk> <unk> <unk> why not its 5 <unk> somewhere onset ballers hbo <unk> <unk> <unk> <unk> <unk> <unk> <unk> to walk that line onset ballers hbo <unk> away from <unk> on the tonight show stage <unk> <unk> <unk> <unk> touched down nyc <unk> <unk> <unk> animals realize they're gonna become my lunch <unk> <unk> <unk> <unk> <unk> gratitude <unk> <unk> <unk> starts now <unk> <unk> <unk> leg this is i'm honored thank you so much <unk> <unk> <unk> off am training <unk> <unk> <unk> <unk> call amcardio <unk> <unk> you hear me <unk> tbt <unk> <unk> <unk> <unk> workout just <unk> to kick in legday <unk> <unk> <unk> <unk> <unk> <unk> of my <unk> babies on our farm <unk> <unk> <unk> <unk> tbt <unk> <unk> ever <unk> mornin' from the south <unk> <unk> <unk> amcardio <unk> into town with a sound of my own <unk> <unk> <unk> <unk></td>\n",
       "      <td id=\"T_db032_row5_col1\" class=\"data row5 col1\" >and <unk> tonight <unk> <unk> <unk> <unk> <unk> <unk> <unk> just <unk> <unk> on nofilter <unk> striveforgreatness striveforgreatness on striveforgreatness <unk> soon finished much and i b this charliebymz <unk> <unk> <unk> the <unk> <unk> <unk> <unk> <unk> <unk> <unk> <unk> <unk> b ciarrap <unk> 👑 <unk> <unk> <unk> <unk> ride <unk> <unk> <unk> <unk> striveforgreatness🚀 on itsjustdifferent striveforgreatness🚀 <unk> good me how <unk> <unk> ❤ <unk> <unk> <unk> with my up tomorrow <unk> for children <unk> <unk> <unk> <unk> <unk> <unk> <unk> hahaha w <unk> <unk> <unk> <unk> <unk> <unk> <unk> <unk> dude <unk> <unk> me this was <unk> <unk> <unk> <unk> <unk> <unk> the <unk> <unk> <unk> <unk> striveforgreatness striveforgreatness striveforgreatness striveforgreatness lets lets <unk> the my hsn house like <unk> <unk> <unk> rare how i <unk> to the <unk> striveforgreatness <unk> of has cool eating my 👑 in <unk> <unk> <unk> <unk> <unk> <unk> <unk> <unk> <unk> for meet beat day too <unk> hbo <unk> before from my to the sets for <unk> <unk> striveforgreatness striveforgreatness striveforgreatness finished down in <unk> <unk> <unk> you i safari really do the home in <unk> striveforgreatness <unk> <unk> for <unk> <unk> <unk> camp this <unk> <unk> <unk> <unk> day is how sick right you <unk> much 1love <unk> <unk> <unk> the <unk> <unk> with <unk> <unk> <unk> this <unk> <unk> wait hear me like down <unk> <unk> <unk> <unk> game with got <unk> <unk> off the <unk> <unk> <unk> <unk> nike itsjustdifferent of the favorite right can't my <unk> <unk> <unk> <unk> my <unk> <unk> <unk> <unk> <unk> morning from the <unk> of <unk> <unk> <unk> love <unk> the that's this <unk> of <unk> room <unk> <unk> <unk> <unk></td>\n",
       "      <td id=\"T_db032_row5_col2\" class=\"data row5 col2\" >0.304099</td>\n",
       "    </tr>\n",
       "    <tr>\n",
       "      <th id=\"T_db032_level0_row6\" class=\"row_heading level0 row6\" >6</th>\n",
       "      <td id=\"T_db032_row6_col0\" class=\"data row6 col0\" ><unk> <unk> are just a <unk> <unk> <unk> just the sun i swear i'm not <unk> world <unk> <unk> <unk> <unk> time <unk> <unk> <unk> been an <unk> journey back in time meet <unk> <unk> <unk> <unk> but i shall not break words that <unk> <unk> <unk> <unk> someone wise once said you cannot find time you must make time day another view <unk> <unk> <unk> 01 2017 kaabil love is a <unk> the <unk> can create more love 45 years then now and always <unk> <unk> <unk> current favorite album <unk> what are you guys listening to <unk> doesn't share food ' <unk> gets me ' up the last schedule of <unk> <unk> <unk> <unk> like i have a new chair for the living room that's how i keep in shape crush <unk> 📸 <unk> 👗 <unk> stylebyami 💄 vardannayak <unk> the mad hair <unk> women’s day celebrate every version of you <unk> <unk> <unk> <unk> <unk> mommy and brother <unk> ☀️ 🌊 🐠 <unk> <unk> <unk> ncstravels luxnorthmale 📸 <unk> <unk> <unk> sun tan ☀️ 🌊 is a waking <unk> 📸 <unk> 🌊 💐 i see you <unk> <unk> <unk> 📸 <unk> is short your lashes <unk> be 👁 <unk> ki <unk> <unk> <unk> ki na mani <unk> <unk> 🌊 🌊 🌊 let the <unk> in you <unk> <unk> mother like daughter <unk> loveaajkal see you 👀 <unk> come see me at the see <unk> <unk> loveaajkal <unk> you <unk> blessed gratitude toh <unk> <unk> ✈️ <unk></td>\n",
       "      <td id=\"T_db032_row6_col1\" class=\"data row6 col1\" ><unk> of terry talented a <unk> <unk> <unk> not different beginning time met i'm in <unk> to i've striveforgreatness🚀 <unk> striveforgreatness🚀 not for <unk> <unk> not a <unk> bitch back in <unk> for <unk> <unk> <unk> be a it's don't be be <unk> right the <unk> <unk> let's usual who you grangrandolly <unk> you find your you <unk> <unk> this day another slay <unk> and ad 01 at nadiadwalagrandson you is what <unk> <unk> <unk> of just me details 45 years life r i i giving me i <unk> favorite album is from are you guys coming to <unk> <unk> be venuswilliams ' <unk> 😚 me ' up the day schedule of <unk> <unk> <unk> <unk> like diamonds owned a new beginning for me fire legend i all i keep it the <unk> <unk> on <unk> <unk> <unk> <unk> 💄 <unk> <unk> <unk> <unk> hair <unk> is day dream every version of <unk> <unk> <unk> <unk> <unk> <unk> my and my <unk> sisters 🌊 🐠 <unk> <unk> <unk> striveforgreatness striveforgreatness🚀 <unk> <unk> <unk> <unk> <unk> is <unk> <unk> you sexy waking up yes <unk> o 💐 i need you <unk> <unk> ad <unk> alexisohanian is here make bitch is on awesome mfphotography <unk> <unk> <unk> <unk> itsjustdifferent <unk> <unk> <unk> <unk> <unk> 🌊 🌊 ended u <unk> of the <unk> <unk> diamonds like young <unk> <unk> love you <unk> i <unk> home my at the see me striveforgreatness <unk> <unk> you <unk> for gratitude <unk> <unk> <unk> <unk> <unk></td>\n",
       "      <td id=\"T_db032_row6_col2\" class=\"data row6 col2\" >0.198024</td>\n",
       "    </tr>\n",
       "    <tr>\n",
       "      <th id=\"T_db032_level0_row7\" class=\"row_heading level0 row7\" >7</th>\n",
       "      <td id=\"T_db032_row7_col0\" class=\"data row7 col0\" >january 3 january 4 noon january 27 noon trailer on now 31 noon january 3 january 4 noon 31 noon january 3 january 4 noon girls is where it's at 31 noon january 3 january 4 noon 31 noon january 3 january 4 noon 31 noon january 3 31 january 3 31 january 3 making a a change one <unk> at a time thanks know they could <unk> but it was <unk> to drink out of the <unk> would come out better these new <unk> are <unk> on the mouth and you get very little liquid each drink it's a damn <unk> and needs to be changed back tbh it shouldn't be plastic find a way to be <unk> let's change the world 1 <unk> at a time out on the ice with all of my childhood hockey buddies oh and these 3 legends and boys my lil cuz christmas to my beautiful sisters trailer on youtube now 24 december 31 january 3 24 december 31 january 3 24 december 31 january 3 gift this year 24 december 31 january 3 24 december 31 january 3 24 december 31 january 3 putting outfits together vibes</td>\n",
       "      <td id=\"T_db032_row7_col1\" class=\"data row7 col1\" >ernieramos <unk> 1 <unk> shades vevo <unk> noon <unk> out <unk> 14 january january 3 january 3 noon 14 january january 3 january 3 noon bff is trill i at 14 january january 3 january 3 noon 14 january january 3 january 3 noon 14 january january 3 14 january 3 14 january 3 like sure <unk> <unk> life <unk> in <unk> <unk> <unk> love u <unk> eat <unk> i was <unk> <unk> me down <unk> the <unk> <unk> let together <unk> <unk> <unk> <unk> and you <unk> this media and <unk> will yours much <unk> give other such true sunday <unk> and <unk> to be a play on <unk> gets be again anyone it way <unk> walk a let's keep it world video <unk> <unk> <unk> <unk> a of my low <unk> the my the <unk> sisters game <unk> not best <unk> legends <unk> <unk> <unk> bff <unk> christmas to all <unk> family bowl <unk> <unk> <unk> 14 <unk> 31 january 3 14 <unk> 31 january 3 14 <unk> 31 january 3 bff last look 14 <unk> 31 january 3 14 <unk> 31 january 3 14 <unk> 31 january 3 my my off barbados</td>\n",
       "      <td id=\"T_db032_row7_col2\" class=\"data row7 col2\" >0.179160</td>\n",
       "    </tr>\n",
       "    <tr>\n",
       "      <th id=\"T_db032_level0_row8\" class=\"row_heading level0 row8\" >8</th>\n",
       "      <td id=\"T_db032_row8_col0\" class=\"data row8 col0\" >our own personal backstage <unk> season2 you apple for helping us launch our new <unk> birthday to my second half life without you wouldn't be complete i love you love girls girls girls 📷 of love tonight the real family dinner in time for proud to announce kimkardashianwest com is now live i've worked for over a year on creating so much original content for you guys shout out to matt williams for this sick shoot video we did just for the site and app go now and check it out link in bio to the app store 😘 <unk> boots is probably my favorite pic of us happy birthday birthday to the most beautiful soul i have some of the best memories with you that will last forever you are just the most genuine person i love you glam 💄 💆🏽 head to toe of the best shows i've ever seen show x great friends peek yeezy season2 🔥 givenchy x yeezy stroll with the princess 💜 kendall take new york <unk> the tea tonight with serena <unk> night's vibes haider <unk> x valentino <unk> a beautiful wedding last photo before we checked in our phones ❤️ to mr mrs steve <unk> shoot 2009 love this shoot so much had to post about it twice this week 2009 i was on one cover side kanye on the other side selfie for the night thanks again for the <unk> everyone million instagram followers i love you guys</td>\n",
       "      <td id=\"T_db032_row8_col1\" class=\"data row8 col1\" ><unk> way personal backstage <unk> taught you <unk> for helping me <unk> of <unk> <unk> b ciarrap my homie family of 😍😍 you too <unk> <unk> what love it <unk> trip night night night of love ❤️ venuswilliams way <unk> <unk> finished <unk> for proud of be my com and now available and been on <unk> a <unk> on stage so much <unk> guys for the guys shout out to matt williams <unk> this <unk> john shot coming did that for <unk> site and share go to <unk> i it out <unk> in bio <unk> watch pop store <unk> <unk> <unk> is trill my <unk> spot on me <unk> birthday b ciarrap my best beautiful people ever love in three love best master ever my <unk> <unk> forever night my <unk> all <unk> <unk> genuine hearted 😇 love you sweater by <unk> sweater on toe of the hardest unicef last ever done to tonight <unk> win peek of shoe <unk> on katyperry japan <unk> with the homies ernieramos and <unk> miami car <unk> <unk> photographer for with serena <unk> night bitches on <unk> <unk> <unk> <unk> a background day day night pic the are in the family ❤️ brooklynbeckham <unk> <unk> <unk> <unk> rihannaforriverisland was <unk> <unk> photo <unk> much fun a be <unk> it off <unk> pic rihannaforriverisland swag was working my i side <unk> <unk> the football side night i've <unk> day striveforgreatness for for sure <unk> <unk> million amazing followers on love you guys</td>\n",
       "      <td id=\"T_db032_row8_col2\" class=\"data row8 col2\" >0.065324</td>\n",
       "    </tr>\n",
       "    <tr>\n",
       "      <th id=\"T_db032_level0_row9\" class=\"row_heading level0 row9\" >9</th>\n",
       "      <td id=\"T_db032_row9_col0\" class=\"data row9 col0\" >bae <unk> you this a good pic <unk> do you get it oh my <unk> so funny also we are on the way to ohio be a dope music video i don't fall photo to the moon with beat is definitely being <unk> 😜 i <unk> <unk> to let me take over their snapchat account come get <unk> <unk> on snapchat it at the hype hotel with 🎶 peep snapchat story to see the madness <unk> <unk> dis <unk> <unk> 📷 by last selfie 📷 the first time in yet another year i've finally changed my profile picture what do you guys think 👱 photo by man and his car you're angry but still fabulous af just threw up a vine with this guy check it out your teacher <unk> weekend homework order <unk> was incredible big thanks to everyone who watched i promise i'm not that evil 😁 at 9 <unk> on nbc please don't hate me after you watch this 😬 u <unk> been held by w vine <unk> with my <unk> pet <unk> go watch had to 😂😂😂 bruh is what freedom looks like 🇺🇸 magic in a tiger <unk> kid has been a swag machine for the past 18 years and i don't see that changing anytime soon happy birthday little brother i love you have the right to remain <unk> the <unk> were based off my life mind told me no but my body told me yes much <unk> to everyone who <unk> the contest after <unk> all the videos we have finally <unk> a winner check out page to see if you’re the winner was our christmas card <unk> is coming cool until you see the bunny ears i <unk> three grown men to wear a shirt with my face on it is beyond me</td>\n",
       "      <td id=\"T_db032_row9_col1\" class=\"data row9 col1\" >you <unk> you that bitch badass <unk> <unk> <unk> are <unk> some out hi mom on far jennnrosales repost had here it same <unk> win be a <unk> jacket video you had give 😍 to the show with <unk> is definitely <unk> different by birthdaygirl love it striveforgreatness🚀 the me take it this <unk> account come get it on <unk> the <unk> thee the hype hotel with carowozniacki peep snapchat story — see you madness <unk> love <unk> <unk> crazy striveforgreatness🚀 <unk> <unk> <unk> game <unk> <unk> <unk> of la another week <unk> just changed my profile picture what a you think think 👱 <unk> by <unk> at i family you gone but i <unk> when <unk> a us <unk> <unk> with <unk> guy olivier it out you purse <unk> <unk> <unk> order <unk> <unk> major to collection for <unk> who watched over love <unk> not <unk> evil <unk> on <unk> <unk> on nbc let's don't miss wonder <unk> i wonder <unk> <unk> <unk> r for held <unk> http york <unk> in my bros <unk> <unk> <unk> to love to sorry <unk> is trill i is like you of in da couple <unk> is in done using <unk> machine for <unk> house 18 years and put don't wanna it oh anytime soon happy birthday bro brother <unk> love you know to best of remain <unk> <unk> whole of the off <unk> feet bff pouritup me <unk> <unk> love <unk> has me <unk> much <unk> <unk> my who came <unk> <unk> after my make i videos you love just <unk> it winner check out page <unk> see yourself u 😊 winner is the <unk> time <unk> of on not though the do you movie ears sexy feel you grown men to tell this <unk> with he <unk> it <unk> <unk> <unk> <unk></td>\n",
       "      <td id=\"T_db032_row9_col2\" class=\"data row9 col2\" >0.096060</td>\n",
       "    </tr>\n",
       "  </tbody>\n",
       "</table>\n"
      ],
      "text/plain": [
       "<pandas.io.formats.style.Styler at 0x7eafa5cd39a0>"
      ]
     },
     "execution_count": 32,
     "metadata": {},
     "output_type": "execute_result"
    }
   ],
   "source": [
    "results_df = pd.DataFrame({\n",
    "    'Actual Caption': actual_captions,\n",
    "    'Predicted Caption': predicted_captions,\n",
    "    'BLEU Score': bleu_scores\n",
    "})\n",
    "\n",
    "results_df.style.set_properties(**{'background-color': '#f9f9f9', 'color': '#4CAF50', 'font-weight': 'bold'})"
   ]
  },
  {
   "cell_type": "markdown",
   "id": "8df04988",
   "metadata": {
    "papermill": {
     "duration": 4.338981,
     "end_time": "2024-05-20T00:19:09.893453",
     "exception": false,
     "start_time": "2024-05-20T00:19:05.554472",
     "status": "completed"
    },
    "tags": []
   },
   "source": [
    "<div style=\"color:#FF5733; background-color:#F7DC6F; padding: 20px; border-radius: 15px; font-size: 200%; font-family: 'Segoe UI', Tahoma, Geneva, Verdana, sans-serif; text-align:center; text-shadow: 2px 2px 4px rgba(0, 0, 0, 0.7);\">📈BLUE-SCORE GRAPH📉</div>"
   ]
  },
  {
   "cell_type": "code",
   "execution_count": 33,
   "id": "90cd04f8",
   "metadata": {
    "execution": {
     "iopub.execute_input": "2024-05-20T00:19:18.204672Z",
     "iopub.status.busy": "2024-05-20T00:19:18.204319Z",
     "iopub.status.idle": "2024-05-20T00:19:18.629790Z",
     "shell.execute_reply": "2024-05-20T00:19:18.628826Z"
    },
    "papermill": {
     "duration": 4.583277,
     "end_time": "2024-05-20T00:19:18.632028",
     "exception": false,
     "start_time": "2024-05-20T00:19:14.048751",
     "status": "completed"
    },
    "tags": []
   },
   "outputs": [],
   "source": [
    "from matplotlib import pyplot as plt\n",
    "import seaborn as sns "
   ]
  },
  {
   "cell_type": "code",
   "execution_count": 34,
   "id": "a2c398a0",
   "metadata": {
    "execution": {
     "iopub.execute_input": "2024-05-20T00:19:26.988447Z",
     "iopub.status.busy": "2024-05-20T00:19:26.987566Z",
     "iopub.status.idle": "2024-05-20T00:19:27.382087Z",
     "shell.execute_reply": "2024-05-20T00:19:27.381142Z"
    },
    "papermill": {
     "duration": 4.528868,
     "end_time": "2024-05-20T00:19:27.384120",
     "exception": false,
     "start_time": "2024-05-20T00:19:22.855252",
     "status": "completed"
    },
    "tags": []
   },
   "outputs": [
    {
     "data": {
      "image/png": "[encoded data removed]",
      "text/plain": [
       "<Figure size 1200x600 with 1 Axes>"
      ]
     },
     "metadata": {},
     "output_type": "display_data"
    }
   ],
   "source": [
    "results_df['BLEU Score'] = results_df['BLEU Score'].astype(float)\n",
    "\n",
    "# Plot the BLEU scores using seaborn\n",
    "plt.figure(figsize=(12, 6))\n",
    "sns.barplot(x=results_df.index + 1, y=results_df['BLEU Score'], palette=\"viridis\")\n",
    "plt.xlabel('Sample Number')\n",
    "plt.ylabel('BLEU Score')\n",
    "plt.title('BLEU Scores for Sample Predictions')\n",
    "plt.ylim(0, 1)  # BLEU score range is from 0 to 1\n",
    "plt.grid(axis='y')\n",
    "\n",
    "# Display the plot\n",
    "plt.show()"
   ]
  },
  {
   "cell_type": "markdown",
   "id": "0993c91c",
   "metadata": {
    "papermill": {
     "duration": 4.367172,
     "end_time": "2024-05-20T00:19:35.936015",
     "exception": false,
     "start_time": "2024-05-20T00:19:31.568843",
     "status": "completed"
    },
    "tags": []
   },
   "source": [
    "<div style=\"color:#FF5733; background-color:#F7DC6F; padding: 20px; border-radius: 15px; font-size: 200%; font-family: 'Segoe UI', Tahoma, Geneva, Verdana, sans-serif; text-align:center; text-shadow: 2px 2px 4px rgba(0, 0, 0, 0.7);\"> ✨MODEL PREDICTION✨</div>"
   ]
  },
  {
   "cell_type": "code",
   "execution_count": 35,
   "id": "4aeaa212",
   "metadata": {
    "execution": {
     "iopub.execute_input": "2024-05-20T00:19:44.306852Z",
     "iopub.status.busy": "2024-05-20T00:19:44.306118Z",
     "iopub.status.idle": "2024-05-20T00:19:47.930104Z",
     "shell.execute_reply": "2024-05-20T00:19:47.929145Z"
    },
    "papermill": {
     "duration": 7.822594,
     "end_time": "2024-05-20T00:19:47.932266",
     "exception": false,
     "start_time": "2024-05-20T00:19:40.109672",
     "status": "completed"
    },
    "tags": []
   },
   "outputs": [
    {
     "name": "stdout",
     "output_type": "stream",
     "text": [
      "\u001b[1m10/10\u001b[0m \u001b[32m━━━━━━━━━━━━━━━━━━━━\u001b[0m\u001b[37m\u001b[0m \u001b[1m0s\u001b[0m 19ms/step\n",
      "\u001b[1m11/11\u001b[0m \u001b[32m━━━━━━━━━━━━━━━━━━━━\u001b[0m\u001b[37m\u001b[0m \u001b[1m0s\u001b[0m 15ms/step\n",
      "\u001b[1m56/56\u001b[0m \u001b[32m━━━━━━━━━━━━━━━━━━━━\u001b[0m\u001b[37m\u001b[0m \u001b[1m1s\u001b[0m 10ms/step\n",
      "\u001b[1m10/10\u001b[0m \u001b[32m━━━━━━━━━━━━━━━━━━━━\u001b[0m\u001b[37m\u001b[0m \u001b[1m0s\u001b[0m 9ms/step\n",
      "\u001b[1m8/8\u001b[0m \u001b[32m━━━━━━━━━━━━━━━━━━━━\u001b[0m\u001b[37m\u001b[0m \u001b[1m0s\u001b[0m 9ms/step\n",
      "\u001b[1m11/11\u001b[0m \u001b[32m━━━━━━━━━━━━━━━━━━━━\u001b[0m\u001b[37m\u001b[0m \u001b[1m0s\u001b[0m 9ms/step\n",
      "\u001b[1m9/9\u001b[0m \u001b[32m━━━━━━━━━━━━━━━━━━━━\u001b[0m\u001b[37m\u001b[0m \u001b[1m0s\u001b[0m 9ms/step\n",
      "\u001b[1m21/21\u001b[0m \u001b[32m━━━━━━━━━━━━━━━━━━━━\u001b[0m\u001b[37m\u001b[0m \u001b[1m0s\u001b[0m 9ms/step\n",
      "\u001b[1m24/24\u001b[0m \u001b[32m━━━━━━━━━━━━━━━━━━━━\u001b[0m\u001b[37m\u001b[0m \u001b[1m0s\u001b[0m 9ms/step\n",
      "\u001b[1m6/6\u001b[0m \u001b[32m━━━━━━━━━━━━━━━━━━━━\u001b[0m\u001b[37m\u001b[0m \u001b[1m0s\u001b[0m 9ms/step \n"
     ]
    }
   ],
   "source": [
    "import random\n",
    "\n",
    "# Define the number of samples you want to take\n",
    "num_samples = 10\n",
    "\n",
    "# Take a sample of 10 random elements from the dataset\n",
    "sample_dataset = train_dataset.shuffle(buffer_size=num_samples).take(num_samples)\n",
    "\n",
    "# Create a list to store predictions\n",
    "predictions = []\n",
    "\n",
    "# Iterate over the sample_dataset and make predictions\n",
    "for batch in sample_dataset:\n",
    "    image_features, input_sequence = batch[0]\n",
    "    prediction = model.predict([image_features, input_sequence])\n",
    "    predictions.append(prediction)"
   ]
  },
  {
   "cell_type": "code",
   "execution_count": 36,
   "id": "9ab14228",
   "metadata": {
    "execution": {
     "iopub.execute_input": "2024-05-20T00:19:56.416825Z",
     "iopub.status.busy": "2024-05-20T00:19:56.416473Z",
     "iopub.status.idle": "2024-05-20T00:19:56.423652Z",
     "shell.execute_reply": "2024-05-20T00:19:56.422695Z"
    },
    "papermill": {
     "duration": 4.160429,
     "end_time": "2024-05-20T00:19:56.425550",
     "exception": false,
     "start_time": "2024-05-20T00:19:52.265121",
     "status": "completed"
    },
    "tags": []
   },
   "outputs": [
    {
     "data": {
      "text/plain": [
       "array([[8.6699897e-10, 9.1195337e-02, 2.4315465e-04, ..., 8.4018159e-10,\n",
       "        8.2167106e-10, 9.0082641e-10],\n",
       "       [4.4096088e-10, 9.2022307e-02, 2.8449290e-03, ..., 4.2059206e-10,\n",
       "        3.9100143e-10, 4.6547929e-10],\n",
       "       [2.3265188e-12, 4.9124603e-05, 2.3858547e-05, ..., 2.2454543e-12,\n",
       "        2.2326338e-12, 2.6413845e-12],\n",
       "       ...,\n",
       "       [3.3746551e-11, 9.3049601e-02, 1.8812522e-02, ..., 3.0577207e-11,\n",
       "        3.2914425e-11, 3.4836183e-11],\n",
       "       [9.3003255e-10, 5.4546243e-01, 9.7186426e-03, ..., 9.5691943e-10,\n",
       "        9.2561014e-10, 8.9760105e-10],\n",
       "       [2.8906776e-11, 5.1549438e-02, 7.1788486e-04, ..., 2.9716257e-11,\n",
       "        3.0019098e-11, 2.7895193e-11]], dtype=float32)"
      ]
     },
     "execution_count": 36,
     "metadata": {},
     "output_type": "execute_result"
    }
   ],
   "source": [
    "predictions[0]"
   ]
  },
  {
   "cell_type": "code",
   "execution_count": 37,
   "id": "5f3b26f6",
   "metadata": {
    "execution": {
     "iopub.execute_input": "2024-05-20T00:20:04.760908Z",
     "iopub.status.busy": "2024-05-20T00:20:04.760526Z",
     "iopub.status.idle": "2024-05-20T00:20:04.819551Z",
     "shell.execute_reply": "2024-05-20T00:20:04.818245Z"
    },
    "papermill": {
     "duration": 4.22905,
     "end_time": "2024-05-20T00:20:04.822452",
     "exception": false,
     "start_time": "2024-05-20T00:20:00.593402",
     "status": "completed"
    },
    "tags": []
   },
   "outputs": [],
   "source": [
    "# Convert predictions to captions\n",
    "captions = []\n",
    "for prediction in predictions:\n",
    "    caption = []\n",
    "    for word_index in np.argmax(prediction, axis=1):\n",
    "        word = tokenizer.index_word[word_index]\n",
    "        caption.append(word)\n",
    "    captions.append(caption)"
   ]
  },
  {
   "cell_type": "code",
   "execution_count": 38,
   "id": "84636e51",
   "metadata": {
    "execution": {
     "iopub.execute_input": "2024-05-20T00:20:13.426315Z",
     "iopub.status.busy": "2024-05-20T00:20:13.425572Z",
     "iopub.status.idle": "2024-05-20T00:20:13.432428Z",
     "shell.execute_reply": "2024-05-20T00:20:13.431573Z"
    },
    "papermill": {
     "duration": 4.153791,
     "end_time": "2024-05-20T00:20:13.434845",
     "exception": false,
     "start_time": "2024-05-20T00:20:09.281054",
     "status": "completed"
    },
    "tags": []
   },
   "outputs": [
    {
     "name": "stdout",
     "output_type": "stream",
     "text": [
      "['is', 'and', 'you', '<unk>', 'this', 'love', 'article', '<unk>', '<unk>', '<unk>', 'best', 'in', 'the', 'gold', 'honestly', 'knowing', 'the', 'man', 'has', 'the', 'years', 'learning', 'and', 'growing', 'so', 'you', '<unk>', 'love', '<unk>', 'to', 'be', 'apart', 'of', 'my', 'you', 'do', 'to', 'inspire', 'the', 'world', 'come', '<unk>', 'going', 'next', 'generation', 'by', 'grace', 'through', 'faith', '<unk>', 'that', 'know', 'you', 'being', '<unk>', '<unk>', 'your', 'world', '<unk>', 'home', '<unk>', 'tour', '<unk>', 'my', 'you', '<unk>', 'guys', 'were', 'i', 'you', 'so', 'this', 'being', 'matter', 'most', 'us', 'night', 'on', 'his', 'for', 'an', 'ready', 'i'm', 'kick', 'off', 'is', 'now', 'vegas', 'this', 'morning', 'just', 'up', 'on', 'come', '<unk>', 'of', 'wore', 'lead', '<unk>', 'party', 'am', 'to', 'perform', 'in', '<unk>', '<unk>', '<unk>', 'out', 'love', 'wrote', 'tomorrow', 'grateful', 'for', 'this', 'grace', 'and', '<unk>', 'i', 'the', 'great', 'small', 'house', 'love', 'tx', 'just', 'to', 'our', 'family', 'heart', 'for', 'this', '<unk>', 'has', 'is', 'i', 'was', '<unk>', 'my', '<unk>', 'now', 'can't', 'describe', 'how', 'much', 'i', 'love', 'you', 'man', 'and', '<unk>', 'n', 'white', '<unk>', 'me', 'little', '<unk>', '😂', 'a', 'best', 'way', 'i', 'our', 'paris', '<unk>', 'am', '<unk>', 'striveforgreatness', 'it', 'cool', 'fun', 'i', 'was', 'working', '<unk>', '<unk>', 'not', 'time', 'after', '<unk>', 'love', 'my', 'girls', '❤️', 'not', 'leroyalmonceau', 'the', '<unk>', 'sometimes', 'just', 'it', 'here's', '<unk>', 'you', '<unk>', 'the', 'amazing', '☺️', 'on', 'beyond', 'two', '<unk>', 'care', 'of', 'me', 'love', 'you', 'i', 'much', 'legit', 'ripped', 'my', '<unk>', 'right', 'after', 'this', 'week', 'i', 'had', 'it', '<unk>', 'out', '<unk>', 'my', 'is', 'trill', 'i', 'watching', 'most', 'beautiful', 'proud', 'of', 'you', 'tay', '🔥', 'night', '🖤', 'fun', '<unk>', '<unk>', 'and', 'a', 'brunette', 'birthday', 'to', 'my', 'of', 'my', 'best', '<unk>', 'so', 'love', 'what', 'was', 'who', 'got', 'a', 'me', 'to', 'you', 'to', '<unk>', 'you', '<unk>', 'my', 'the', 'the', 'day', 'with', 'the', 'this', 'i', '<unk>', '<unk>', 'to', 'be', 'my', 'movie', 'tonight', '<unk>', '<unk>', 'striveforgreatness', 'proud', 'to', 'be', 'this', 'best', 'up', 'with', 'wait', 'for', 'you', 'guys', 'to', 'see', 'it', '<unk>', 'you', '<unk>', 'this', 'childhood', 'dream', '<unk>', 'true', '<unk>', '<unk>', '<unk>', 'see', 'it', '<unk>', 'ah', ]\n"
     ]
    }
   ],
   "source": [
    "print(\"[\", end=\"\")\n",
    "for word in captions[0]:\n",
    "    print(f\"'{word}'\", end=\", \")\n",
    "print(\"]\")"
   ]
  },
  {
   "cell_type": "markdown",
   "id": "86b8547d",
   "metadata": {
    "papermill": {
     "duration": 4.182474,
     "end_time": "2024-05-20T00:20:21.874360",
     "exception": false,
     "start_time": "2024-05-20T00:20:17.691886",
     "status": "completed"
    },
    "tags": []
   },
   "source": [
    "![](https://static.fontget.com/t/h/thank-you/preview@2x.png)"
   ]
  }
 ],
 "metadata": {
  "kaggle": {
   "accelerator": "nvidiaTeslaT4",
   "dataSources": [
    {
     "datasetId": 526463,
     "sourceId": 1025327,
     "sourceType": "datasetVersion"
    },
    {
     "datasetId": 5042803,
     "sourceId": 8459932,
     "sourceType": "datasetVersion"
    }
   ],
   "dockerImageVersionId": 30698,
   "isGpuEnabled": true,
   "isInternetEnabled": true,
   "language": "python",
   "sourceType": "notebook"
  },
  "kernelspec": {
   "display_name": "Python 3",
   "language": "python",
   "name": "python3"
  },
  "language_info": {
   "codemirror_mode": {
    "name": "ipython",
    "version": 3
   },
   "file_extension": ".py",
   "mimetype": "text/x-python",
   "name": "python",
   "nbconvert_exporter": "python",
   "pygments_lexer": "ipython3",
   "version": "3.10.13"
  },
  "papermill": {
   "default_parameters": {},
   "duration": 6484.290988,
   "end_time": "2024-05-20T00:20:29.100051",
   "environment_variables": {},
   "exception": null,
   "input_path": "__notebook__.ipynb",
   "output_path": "__notebook__.ipynb",
   "parameters": {},
   "start_time": "2024-05-19T22:32:24.809063",
   "version": "2.5.0"
  }
 },
 "nbformat": 4,
 "nbformat_minor": 5
}
